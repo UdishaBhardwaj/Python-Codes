{
 "cells": [
  {
   "cell_type": "raw",
   "id": "00464d54-3c8f-427e-8e62-1dca143c9b81",
   "metadata": {},
   "source": [
    "# Ladder if else"
   ]
  },
  {
   "cell_type": "code",
   "execution_count": 2,
   "id": "5125aa3b-5d03-4e48-b7db-ebe1eb91c6cb",
   "metadata": {},
   "outputs": [
    {
     "name": "stdin",
     "output_type": "stream",
     "text": [
      "enter the choice 3\n"
     ]
    },
    {
     "name": "stdout",
     "output_type": "stream",
     "text": [
      "wed\n"
     ]
    }
   ],
   "source": [
    "x=int(input('enter the choice'))\n",
    "if(x==1):\n",
    "    print('mon')\n",
    "elif(x==2):\n",
    "    print('tues')\n",
    "elif(x==3):\n",
    "    print('wed') \n",
    "else:\n",
    "    print('no choice')"
   ]
  },
  {
   "cell_type": "markdown",
   "id": "8314a3e0-2e42-41e8-85bb-49b989e85a9f",
   "metadata": {},
   "source": [
    "# Write a programe to find out the highest number in between 3 input user "
   ]
  },
  {
   "cell_type": "code",
   "execution_count": 4,
   "id": "3782d0ce-7330-4710-8842-aa09dd9d0ca5",
   "metadata": {},
   "outputs": [
    {
     "name": "stdin",
     "output_type": "stream",
     "text": [
      "enter 1st number 44\n",
      "enter 2nd number 90\n",
      "enter 3rd number 12\n"
     ]
    },
    {
     "name": "stdout",
     "output_type": "stream",
     "text": [
      "greater number 90\n"
     ]
    }
   ],
   "source": [
    "x=int(input('enter 1st number'))\n",
    "y=int(input('enter 2nd number'))\n",
    "z=int(input('enter 3rd number'))\n",
    "if (x>y)&(x>z):\n",
    "    print('greater number',x)\n",
    "elif (y>x)&(y>z):\n",
    "    print('greater number',y)\n",
    "else:\n",
    "     print('greater number',z)\n",
    "       "
   ]
  },
  {
   "cell_type": "markdown",
   "id": "2ebcc61d-010b-4bf8-b291-7f2587ec5dfb",
   "metadata": {},
   "source": [
    "# write a programe for calculater"
   ]
  },
  {
   "cell_type": "code",
   "execution_count": 3,
   "id": "f40dc4f7-612a-426d-891a-e67cd596096b",
   "metadata": {},
   "outputs": [
    {
     "name": "stdin",
     "output_type": "stream",
     "text": [
      "enter 1st number 30\n",
      "enter 2nd number 4\n"
     ]
    },
    {
     "name": "stdout",
     "output_type": "stream",
     "text": [
      "enter the choice\n",
      "1=add\n",
      "2=sub\n",
      "3=div\n",
      "4=mul\n"
     ]
    },
    {
     "name": "stdin",
     "output_type": "stream",
     "text": [
      "enter the choice 3\n"
     ]
    },
    {
     "name": "stdout",
     "output_type": "stream",
     "text": [
      "7.5\n"
     ]
    }
   ],
   "source": [
    "x=int(input('enter 1st number'))\n",
    "y=int(input('enter 2nd number'))\n",
    "print('''enter the choice\n",
    "1=add\n",
    "2=sub\n",
    "3=div\n",
    "4=mul''')\n",
    "a=int(input('enter the choice'))\n",
    "if (a==1):\n",
    "    print(x+y)\n",
    "elif (a==2):\n",
    "    print(x-y)\n",
    "elif (a==3):\n",
    "    print(x/y)\n",
    "else:\n",
    "    print(a*y)    "
   ]
  },
  {
   "cell_type": "markdown",
   "id": "2b9747a5-073b-40ba-809e-0298e43cee70",
   "metadata": {},
   "source": [
    "# LOOPS"
   ]
  },
  {
   "cell_type": "code",
   "execution_count": 7,
   "id": "733eb9ef-8849-46b0-a9b8-b079d067ff03",
   "metadata": {},
   "outputs": [],
   "source": [
    "#FOR\n",
    "#WHILE\n",
    "#NESTED FOR \n",
    "#NESTED WHILE\n"
   ]
  },
  {
   "cell_type": "markdown",
   "id": "e29b642c-56e2-4f5e-8eae-b9946b89744b",
   "metadata": {},
   "source": [
    "for loop"
   ]
  },
  {
   "cell_type": "code",
   "execution_count": 2,
   "id": "40e3b184-b3f2-4ab4-8a73-a8ee61d9b2ec",
   "metadata": {},
   "outputs": [
    {
     "name": "stdout",
     "output_type": "stream",
     "text": [
      "10\n",
      "9\n",
      "8\n",
      "7\n",
      "6\n",
      "5\n",
      "4\n",
      "3\n",
      "2\n",
      "1\n"
     ]
    }
   ],
   "source": [
    "for i in range (10,0,-1):\n",
    "    print(i)   "
   ]
  },
  {
   "cell_type": "markdown",
   "id": "491bab73-3aa7-43d8-9338-91c2bdb3992f",
   "metadata": {},
   "source": [
    "nested for loop"
   ]
  },
  {
   "cell_type": "code",
   "execution_count": 9,
   "id": "8115a41d-0052-4ba3-adb5-6ddb54123529",
   "metadata": {},
   "outputs": [
    {
     "name": "stdout",
     "output_type": "stream",
     "text": [
      "0 1 2 3 4 \n",
      "0 1 2 3 4 \n",
      "0 1 2 3 4 \n",
      "0 1 2 3 4 \n",
      "0 1 2 3 4 \n"
     ]
    }
   ],
   "source": [
    "for i in range (0,5):\n",
    "    for j in range (0,5):\n",
    "        print(j,end=\" \")\n",
    "    print()    "
   ]
  },
  {
   "cell_type": "code",
   "execution_count": 12,
   "id": "0fb0e088-29e3-4967-8192-f43f0868b183",
   "metadata": {},
   "outputs": [
    {
     "name": "stdout",
     "output_type": "stream",
     "text": [
      "0 0 0 0 0 \n",
      "1 1 1 1 1 \n",
      "2 2 2 2 2 \n",
      "3 3 3 3 3 \n",
      "4 4 4 4 4 \n"
     ]
    }
   ],
   "source": [
    "for i in range (0,5):\n",
    "    for j in range (0,5):\n",
    "        print(i,end=\" \")\n",
    "    print() "
   ]
  },
  {
   "cell_type": "code",
   "execution_count": 16,
   "id": "4bb2d8ee-f384-446b-b669-a593691cb912",
   "metadata": {},
   "outputs": [
    {
     "name": "stdout",
     "output_type": "stream",
     "text": [
      "* \n",
      "* * \n",
      "* * * \n",
      "* * * * \n",
      "* * * * * \n"
     ]
    }
   ],
   "source": [
    "for i in range (0,5):\n",
    "    for j in range(0,i+1):\n",
    "        print('*',end=\" \")\n",
    "    print()    "
   ]
  },
  {
   "cell_type": "code",
   "execution_count": 18,
   "id": "eb8e5eda-a269-4292-9289-6d1c79e28762",
   "metadata": {},
   "outputs": [
    {
     "name": "stdout",
     "output_type": "stream",
     "text": [
      "* * * * * \n",
      "* * * * \n",
      "* * * \n",
      "* * \n",
      "* \n"
     ]
    }
   ],
   "source": [
    "for i in range (0,5):\n",
    "    for j in range (0,5-i):\n",
    "        print('*',end=\" \")\n",
    "    print()    "
   ]
  },
  {
   "cell_type": "code",
   "execution_count": 22,
   "id": "ed8845ed-d2f7-4da8-bbe7-b6825da6d9d0",
   "metadata": {},
   "outputs": [
    {
     "name": "stdout",
     "output_type": "stream",
     "text": [
      "1 \n",
      "1 2 \n",
      "1 2 3 \n",
      "1 2 3 4 \n",
      "1 2 3 4 5 \n"
     ]
    }
   ],
   "source": [
    "for i in range (1,6):\n",
    "    for j in range (1,i+1):\n",
    "        print(j,end=' ')\n",
    "    print()    "
   ]
  },
  {
   "cell_type": "code",
   "execution_count": 2,
   "id": "97bc5748-97b8-40c8-b951-a35d5572cb45",
   "metadata": {},
   "outputs": [
    {
     "name": "stdout",
     "output_type": "stream",
     "text": [
      "1 \n",
      "2 3 \n",
      "4 5 6 \n",
      "7 8 9 10 \n",
      "11 12 13 14 15 \n",
      "65\n"
     ]
    }
   ],
   "source": [
    "c=1\n",
    "for i in range (1,6):\n",
    "    for j in range (1, i+1):\n",
    "        print(c,end=\" \")\n",
    "        c=c+1\n",
    "    print()\n",
    "x='A'\n",
    "print(ord(x))"
   ]
  },
  {
   "cell_type": "code",
   "execution_count": 5,
   "id": "47cb2dc9-381f-4871-bfb3-00aa7424a8fb",
   "metadata": {},
   "outputs": [
    {
     "name": "stdout",
     "output_type": "stream",
     "text": [
      "A \n",
      "A B \n",
      "A B C \n",
      "A B C D \n",
      "A B C D E \n",
      "A B C D E F \n"
     ]
    }
   ],
   "source": [
    "\n",
    "for i in range (65,71):\n",
    "    for j in range (65, i+1):\n",
    "        print(chr(j),end=\" \")\n",
    "    print() \n",
    "\n",
    "\n",
    "\n"
   ]
  },
  {
   "cell_type": "code",
   "execution_count": 7,
   "id": "e0bc1201-c03d-4351-b43b-d5644c3d7367",
   "metadata": {},
   "outputs": [
    {
     "name": "stdout",
     "output_type": "stream",
     "text": [
      "A \n",
      "B C \n",
      "D E F \n",
      "G H I J \n",
      "K L M N O \n",
      "P Q R S T U \n"
     ]
    }
   ],
   "source": [
    "k=65\n",
    "for i in range (65,71):\n",
    "    for j in range (65, i+1):\n",
    "        print(chr(k),end=\" \")\n",
    "        k=k+1\n",
    "    print() \n"
   ]
  },
  {
   "cell_type": "code",
   "execution_count": 8,
   "id": "d83a6cef-4049-4ef7-bf50-668a92f59afa",
   "metadata": {},
   "outputs": [
    {
     "name": "stdout",
     "output_type": "stream",
     "text": [
      "A \n",
      "B C \n",
      "D E F \n",
      "G H I J \n",
      "K L M N O \n"
     ]
    }
   ],
   "source": [
    "k=65\n",
    "for i in range (1,6):\n",
    "    for j in range (1, i+1):\n",
    "        print(chr(k),end=\" \")\n",
    "        k=k+1\n",
    "    print() "
   ]
  },
  {
   "cell_type": "code",
   "execution_count": 11,
   "id": "056c11f5-28a5-4e9b-b70a-a7a7ca0e73ef",
   "metadata": {},
   "outputs": [
    {
     "name": "stdout",
     "output_type": "stream",
     "text": [
      "        * \n",
      "      * * \n",
      "    * * * \n",
      "  * * * * \n",
      "* * * * * \n"
     ]
    }
   ],
   "source": [
    "\n",
    "for i in range (0,5):\n",
    "    for j in range(4,i,-1) :\n",
    "        print(' ',end=' ')\n",
    "    for k in range (0,i+1):\n",
    "        print('*',end=\" \")\n",
    "    print() "
   ]
  },
  {
   "cell_type": "code",
   "execution_count": 12,
   "id": "fa0d382a-0fec-4717-92a7-e540b1186455",
   "metadata": {},
   "outputs": [
    {
     "name": "stdout",
     "output_type": "stream",
     "text": [
      "         *  \n",
      "       *   *  \n",
      "     *   *   *  \n",
      "   *   *   *   *  \n",
      " *   *   *   *   *  \n"
     ]
    }
   ],
   "source": [
    " for i in range (0,5):\n",
    "    for j in range(4,i,-1) :\n",
    "        print(' ',end=' ')\n",
    "    for k in range (0,i+1):\n",
    "        print(' * ',end=\" \")\n",
    "    print() "
   ]
  },
  {
   "cell_type": "code",
   "execution_count": 15,
   "id": "4c90eecd-b26c-466a-a171-639ef118d789",
   "metadata": {},
   "outputs": [
    {
     "name": "stdout",
     "output_type": "stream",
     "text": [
      "* * * * * \n",
      "  * * * * \n",
      "    * * * \n",
      "      * * \n",
      "        * \n"
     ]
    }
   ],
   "source": [
    "for i in range (0,5):\n",
    "    for j in range(0,i) :\n",
    "        print(' ',end=' ')\n",
    "    for k in range (5,i,-1):\n",
    "        print('*',end=\" \")\n",
    "    print() "
   ]
  },
  {
   "cell_type": "code",
   "execution_count": 16,
   "id": "2cd8dc27-5b12-45b3-b42d-77f56231994c",
   "metadata": {},
   "outputs": [
    {
     "name": "stdout",
     "output_type": "stream",
     "text": [
      " *   *   *   *   *  \n",
      "   *   *   *   *  \n",
      "     *   *   *  \n",
      "       *   *  \n",
      "         *  \n"
     ]
    }
   ],
   "source": [
    "for i in range (0,5):\n",
    "    for j in range(0,i) :\n",
    "        print(' ',end=' ')\n",
    "    for k in range (5,i,-1):\n",
    "        print(' * ',end=\" \")\n",
    "    print() "
   ]
  },
  {
   "cell_type": "code",
   "execution_count": 22,
   "id": "d6e87164-dbee-4172-914b-98354e8bf6c7",
   "metadata": {},
   "outputs": [
    {
     "name": "stdout",
     "output_type": "stream",
     "text": [
      "         *  \n",
      "       *   *  \n",
      "     *   *   *  \n",
      "   *   *   *   *  \n",
      " *   *   *   *   *  \n",
      "   *   *   *   *  \n",
      "     *   *   *  \n",
      "       *   *  \n",
      "         *  \n"
     ]
    }
   ],
   "source": [
    "for i in range (0,4):\n",
    "    for j in range(4,i,-1) :\n",
    "        print(' ',end=' ')\n",
    "    for k in range (0,i+1):\n",
    "        print(' * ',end=\" \")\n",
    "    print() \n",
    "for i in range (0,5):\n",
    "    for j in range(0,i) :\n",
    "        print(' ',end=' ')\n",
    "    for k in range (5,i,-1):\n",
    "        print(' * ',end=\" \")\n",
    "    print() "
   ]
  },
  {
   "cell_type": "code",
   "execution_count": 26,
   "id": "88dd84a6-ffb9-4129-b88c-ce6574c522f2",
   "metadata": {},
   "outputs": [
    {
     "name": "stdout",
     "output_type": "stream",
     "text": [
      "        1 \n",
      "      1 2 \n",
      "    1 2 3 \n",
      "  1 2 3 4 \n",
      "1 2 3 4 5 \n"
     ]
    }
   ],
   "source": [
    "for i in range (0,5):\n",
    "    for j in range(4,i,-1):\n",
    "        print(' ',end=' ')\n",
    "    for k in range (1,i+2):\n",
    "        print(k,end=\" \")\n",
    "    print() "
   ]
  },
  {
   "cell_type": "code",
   "execution_count": 32,
   "id": "0fcc3ba2-f8fd-46d0-850d-173d6b26dd17",
   "metadata": {},
   "outputs": [
    {
     "name": "stdout",
     "output_type": "stream",
     "text": [
      "1 \n",
      "2 1 \n",
      "3 2 1 \n",
      "4 3 2 1 \n",
      "5 4 3 2 1 \n"
     ]
    }
   ],
   "source": [
    "for i in range (1,6):\n",
    "    for j in range (i,0,-1):\n",
    "        print(j,end=' ')\n",
    "    print() "
   ]
  },
  {
   "cell_type": "code",
   "execution_count": 3,
   "id": "b9f49c85-1011-47d2-bbb1-4e5fec9ffacc",
   "metadata": {},
   "outputs": [
    {
     "name": "stdout",
     "output_type": "stream",
     "text": [
      "        1 \n",
      "      1 2 1 \n",
      "    1 2 3 2 1 \n",
      "  1 2 3 4 3 2 1 \n",
      "1 2 3 4 5 4 3 2 1 \n"
     ]
    }
   ],
   "source": [
    "for i in range (0,5):\n",
    "    for j in range(4,i,-1):\n",
    "        print(' ',end=' ')\n",
    "    for k in range (1,i+2):\n",
    "        print(k,end=\" \")\n",
    "    for j in range (i,0,-1):\n",
    "            print(j,end=' ')\n",
    "    print() "
   ]
  },
  {
   "cell_type": "markdown",
   "id": "332cafb9-4538-4ac2-bda9-8ea3b6f3f6eb",
   "metadata": {},
   "source": [
    "# pass\n",
    "# break\n",
    "# continue"
   ]
  },
  {
   "cell_type": "code",
   "execution_count": 4,
   "id": "959eaead-9216-483b-a971-0deece181948",
   "metadata": {},
   "outputs": [],
   "source": [
    "#write a programme to gassing a number with the help of while loop\n",
    "#collection=> 2 types \n",
    "#similler : array , \n",
    "#different : list , tupple , dictionary, sets\n",
    "#list =  it is a collection of object type elements , store data on index, mutable , class of collection, dynamic, complex data does not pass in list"
   ]
  },
  {
   "cell_type": "markdown",
   "id": "20140136-4e36-44ba-bc6e-35c44da9519f",
   "metadata": {},
   "source": [
    "# list"
   ]
  },
  {
   "cell_type": "code",
   "execution_count": 16,
   "id": "7c9ae1c6-c792-47bf-b1b5-636f1ea119ce",
   "metadata": {},
   "outputs": [
    {
     "data": {
      "text/plain": [
       "['rahul',\n",
       " 'ravi',\n",
       " 'seeta',\n",
       " 333,\n",
       " 6666,\n",
       " 77,\n",
       " 333,\n",
       " 'ravi',\n",
       " 'vipin',\n",
       " 'seema',\n",
       " 'ravi']"
      ]
     },
     "execution_count": 16,
     "metadata": {},
     "output_type": "execute_result"
    }
   ],
   "source": [
    "l=['rahul','ravi','seeta', 333, 6666, 77, 333, 'ravi','vipin','seema','ravi']\n",
    "l"
   ]
  },
  {
   "cell_type": "code",
   "execution_count": 10,
   "id": "b87f511d-321c-4261-8ba7-dffddf17159a",
   "metadata": {},
   "outputs": [
    {
     "name": "stdout",
     "output_type": "stream",
     "text": [
      "rahul\n",
      "ravi\n",
      "name found ravi\n",
      "seeta\n",
      "333\n",
      "6666\n",
      "77\n",
      "333\n",
      "ravi\n",
      "name found ravi\n",
      "vipin\n",
      "seema\n",
      "ravi\n",
      "name found ravi\n",
      "3\n"
     ]
    }
   ],
   "source": [
    "count=0\n",
    "for i in l:\n",
    "    print(i)\n",
    "    if (i=='ravi'):\n",
    "        print('name found',i)\n",
    "        count=count+1\n",
    "print(count)        "
   ]
  },
  {
   "cell_type": "code",
   "execution_count": 17,
   "id": "b764f27a-6d1b-4fc4-841a-1791d3affdb6",
   "metadata": {},
   "outputs": [
    {
     "data": {
      "text/plain": [
       "['rahul', 'ravi', 'seeta', 333, 6666, 333, 'ravi', 'vipin', 'seema', 'ravi']"
      ]
     },
     "execution_count": 17,
     "metadata": {},
     "output_type": "execute_result"
    }
   ],
   "source": [
    "l.remove(77)#removed mentioned element, phle vala mentioned element htayega\n",
    "l"
   ]
  },
  {
   "cell_type": "code",
   "execution_count": 18,
   "id": "fbba0e6e-1870-4900-97b2-7619572f7769",
   "metadata": {},
   "outputs": [
    {
     "data": {
      "text/plain": [
       "['rahul', 'seeta', 333, 6666, 333, 'vipin', 'seema']"
      ]
     },
     "execution_count": 18,
     "metadata": {},
     "output_type": "execute_result"
    }
   ],
   "source": [
    "for i in l:\n",
    "    if (i=='ravi'):\n",
    "        l.remove(i)\n",
    "l"
   ]
  },
  {
   "cell_type": "markdown",
   "id": "d9242923-ee6b-4fe6-a620-d9f2c55364c7",
   "metadata": {},
   "source": [
    "# write a programme to gassing a number with the help of while loop"
   ]
  },
  {
   "cell_type": "code",
   "execution_count": 1,
   "id": "6e3cfca0-e4a0-466e-9ab1-197d346f4d08",
   "metadata": {},
   "outputs": [
    {
     "name": "stdout",
     "output_type": "stream",
     "text": [
      "34\n"
     ]
    },
    {
     "name": "stdin",
     "output_type": "stream",
     "text": [
      "enter any two digit value 34\n"
     ]
    },
    {
     "name": "stdout",
     "output_type": "stream",
     "text": [
      "congratulation you won\n"
     ]
    }
   ],
   "source": [
    "import random\n",
    "c=1\n",
    "s=random.randint(10,100)\n",
    "while(c<4):\n",
    "   \n",
    "    print(s)\n",
    "    a=int(input('enter any two digit value'))\n",
    "    if (a==s):\n",
    "        print('congratulation you won')\n",
    "        break\n",
    "    else:\n",
    "        c=c+1\n",
    "    \n",
    "\n",
    "    "
   ]
  },
  {
   "cell_type": "markdown",
   "id": "6344b28b-1e12-455e-a292-019dc5ec0123",
   "metadata": {},
   "source": [
    "# Random lottery pick. Generate 100 random lottery tickets and pick two lucky tickets from it as a winner"
   ]
  },
  {
   "cell_type": "code",
   "execution_count": 4,
   "id": "25af7bdb-9c74-429b-90d3-bcc798735ef3",
   "metadata": {},
   "outputs": [
    {
     "name": "stdout",
     "output_type": "stream",
     "text": [
      "Generating 100 tickets\n",
      "winner [89826, 78514]\n"
     ]
    }
   ],
   "source": [
    "import random\n",
    "print('Generating 100 tickets')\n",
    "list=[]\n",
    "for i in range (100):\n",
    "    list.append(random.randint(10000,99999))\n",
    "s=random.sample(list,2)\n",
    "print('winner',s)    "
   ]
  },
  {
   "cell_type": "code",
   "execution_count": 3,
   "id": "1ca4f5f2-3809-482f-971f-e045f4f17cde",
   "metadata": {},
   "outputs": [
    {
     "data": {
      "text/plain": [
       "['rahul',\n",
       " 'ravi',\n",
       " 'seeta',\n",
       " 333,\n",
       " 6666,\n",
       " 77,\n",
       " 333,\n",
       " 'ravi',\n",
       " 'vipin',\n",
       " 'seema',\n",
       " 'ravi']"
      ]
     },
     "execution_count": 3,
     "metadata": {},
     "output_type": "execute_result"
    }
   ],
   "source": [
    "l=['rahul','ravi','seeta', 333, 6666, 77, 333, 'ravi','vipin','seema','ravi']\n",
    "l"
   ]
  },
  {
   "cell_type": "code",
   "execution_count": 3,
   "id": "25df118b-9448-4c67-b332-18a8402a9246",
   "metadata": {},
   "outputs": [
    {
     "data": {
      "text/plain": [
       "['rahul', 'ravi', 'seeta', 77, 333, 'ravi', 'vipin', 'seema', 'ravi']"
      ]
     },
     "execution_count": 3,
     "metadata": {},
     "output_type": "execute_result"
    }
   ],
   "source": [
    "l.pop(3) #index based element htata h ,koi index nhi btayege to last ko delete krega \n",
    "l"
   ]
  },
  {
   "cell_type": "code",
   "execution_count": 4,
   "id": "27626df2-fdef-4ddd-9a65-7b67bfd017a7",
   "metadata": {},
   "outputs": [
    {
     "data": {
      "text/plain": [
       "[]"
      ]
     },
     "execution_count": 4,
     "metadata": {},
     "output_type": "execute_result"
    }
   ],
   "source": [
    "l.clear()# delete all elements from list and list become empty\n",
    "l"
   ]
  },
  {
   "cell_type": "code",
   "execution_count": 3,
   "id": "60e83e5d-930a-4755-9df5-638b470295b5",
   "metadata": {},
   "outputs": [
    {
     "name": "stdout",
     "output_type": "stream",
     "text": [
      "None\n"
     ]
    },
    {
     "data": {
      "text/plain": [
       "['ravi',\n",
       " 'seema',\n",
       " 'vipin',\n",
       " 'ravi',\n",
       " 333,\n",
       " 77,\n",
       " 6666,\n",
       " 333,\n",
       " 'seeta',\n",
       " 'ravi',\n",
       " 'rahul']"
      ]
     },
     "execution_count": 3,
     "metadata": {},
     "output_type": "execute_result"
    }
   ],
   "source": [
    "l=['rahul','ravi','seeta', 333, 6666, 77, 333, 'ravi','vipin','seema','ravi']\n",
    "print(l.reverse())\n",
    "l"
   ]
  },
  {
   "cell_type": "code",
   "execution_count": 6,
   "id": "6c25e38d-3079-44a8-ac7b-67848d49598e",
   "metadata": {},
   "outputs": [],
   "source": [
    "l.insert(7777,3) # 1 he element add krega one time par"
   ]
  },
  {
   "cell_type": "code",
   "execution_count": 7,
   "id": "fab736b9-46ed-47da-a5d0-ea7d36edd132",
   "metadata": {},
   "outputs": [
    {
     "data": {
      "text/plain": [
       "['rahul',\n",
       " 'ravi',\n",
       " 'seeta',\n",
       " 333,\n",
       " 6666,\n",
       " 77,\n",
       " 333,\n",
       " 'ravi',\n",
       " 'vipin',\n",
       " 'seema',\n",
       " 'ravi',\n",
       " 3]"
      ]
     },
     "execution_count": 7,
     "metadata": {},
     "output_type": "execute_result"
    }
   ],
   "source": [
    "l"
   ]
  },
  {
   "cell_type": "code",
   "execution_count": 8,
   "id": "eca268d7-c7ce-4322-b0e4-4762230c634b",
   "metadata": {},
   "outputs": [
    {
     "data": {
      "text/plain": [
       "['rahul',\n",
       " 'ravi',\n",
       " 'seeta',\n",
       " 333,\n",
       " 6666,\n",
       " 77,\n",
       " 333,\n",
       " 'ravi',\n",
       " 'vipin',\n",
       " 'seema',\n",
       " 'ravi',\n",
       " 3,\n",
       " 'delhi']"
      ]
     },
     "execution_count": 8,
     "metadata": {},
     "output_type": "execute_result"
    }
   ],
   "source": [
    "l.append('delhi')# last me new element ko add karta h\n",
    "l"
   ]
  },
  {
   "cell_type": "code",
   "execution_count": 9,
   "id": "8253fd1a-b59d-4879-8959-1f0eaadb47b3",
   "metadata": {},
   "outputs": [
    {
     "name": "stdout",
     "output_type": "stream",
     "text": [
      "['rahul', 'ravi', 'seeta', 333, 6666, 77, 333, 'ravi', 'vipin', 'seema', 'ravi', 3, 'delhi']\n"
     ]
    }
   ],
   "source": [
    "print(l)"
   ]
  },
  {
   "cell_type": "code",
   "execution_count": 11,
   "id": "0c5f9183-0cbb-437f-baf7-382fb6cb035f",
   "metadata": {},
   "outputs": [
    {
     "data": {
      "text/plain": [
       "3"
      ]
     },
     "execution_count": 11,
     "metadata": {},
     "output_type": "execute_result"
    }
   ],
   "source": [
    "l.count('ravi')#count element"
   ]
  },
  {
   "cell_type": "code",
   "execution_count": 12,
   "id": "0ca99c68-b6cf-4cf9-b815-b96bdbf6a2c3",
   "metadata": {},
   "outputs": [
    {
     "data": {
      "text/plain": [
       "1"
      ]
     },
     "execution_count": 12,
     "metadata": {},
     "output_type": "execute_result"
    }
   ],
   "source": [
    "l.index('ravi')# index value btata h but ager repeated value ho to 1st \n"
   ]
  },
  {
   "cell_type": "code",
   "execution_count": 13,
   "id": "c18ccfd2-0e98-4720-9621-ded8b248d2e8",
   "metadata": {},
   "outputs": [
    {
     "name": "stdout",
     "output_type": "stream",
     "text": [
      "1\n",
      "7\n",
      "10\n"
     ]
    }
   ],
   "source": [
    "for i in range(0,len(l)):\n",
    "    if(l[i]=='ravi'):\n",
    "        print(i)\n",
    "        \n",
    "    "
   ]
  },
  {
   "cell_type": "markdown",
   "id": "b6052b40-1b89-4c49-9696-884dbb33a59e",
   "metadata": {},
   "source": [
    "<h2>Slicing</h2>"
   ]
  },
  {
   "cell_type": "code",
   "execution_count": 15,
   "id": "d6536068-67e5-4139-be82-129954548a7a",
   "metadata": {},
   "outputs": [
    {
     "name": "stdout",
     "output_type": "stream",
     "text": [
      "[333, 6666, 77, 333]\n"
     ]
    }
   ],
   "source": [
    "print(l[3:7])"
   ]
  },
  {
   "cell_type": "code",
   "execution_count": 16,
   "id": "a2693c0a-9641-41e1-acb6-c01066a38b8b",
   "metadata": {},
   "outputs": [
    {
     "name": "stdout",
     "output_type": "stream",
     "text": [
      "[333, 77, 'ravi']\n"
     ]
    }
   ],
   "source": [
    "print(l[3:8:2])"
   ]
  },
  {
   "cell_type": "code",
   "execution_count": 20,
   "id": "2afd55b5-bbc9-416d-82a9-74e532feaaf7",
   "metadata": {},
   "outputs": [
    {
     "name": "stdout",
     "output_type": "stream",
     "text": [
      "[]\n"
     ]
    }
   ],
   "source": [
    "print(l[-2:-8])"
   ]
  },
  {
   "cell_type": "code",
   "execution_count": 21,
   "id": "f1970471-486e-4e64-8746-2357df1c6333",
   "metadata": {},
   "outputs": [
    {
     "name": "stdout",
     "output_type": "stream",
     "text": [
      "[3, 'ravi', 'seema', 'vipin', 'ravi', 333]\n"
     ]
    }
   ],
   "source": [
    "print(l[-2:-8:-1])"
   ]
  },
  {
   "cell_type": "code",
   "execution_count": 23,
   "id": "8dee5954-f045-4665-8f87-d43ccd39f2c0",
   "metadata": {},
   "outputs": [
    {
     "name": "stdout",
     "output_type": "stream",
     "text": [
      "['delhi', 3, 'ravi', 'seema', 'vipin', 'ravi', 333, 77, 6666, 333, 'seeta', 'ravi', 'rahul']\n"
     ]
    }
   ],
   "source": [
    "print(l[::-1])"
   ]
  },
  {
   "cell_type": "code",
   "execution_count": 25,
   "id": "e3f9fc8e-f8b0-4383-a6bd-965e9de4201a",
   "metadata": {},
   "outputs": [
    {
     "name": "stdout",
     "output_type": "stream",
     "text": [
      "2423934597632\n",
      "2423934597632\n"
     ]
    }
   ],
   "source": [
    "l2=[]\n",
    "l2=l #asign kiya , changes nhi hoge\n",
    "print(id(l))\n",
    "print(id(l2))"
   ]
  },
  {
   "cell_type": "code",
   "execution_count": 26,
   "id": "a308c1a1-80a1-4c8f-ae06-68b3bcf735fc",
   "metadata": {},
   "outputs": [],
   "source": [
    "l3=[]\n",
    "l3=l.copy()# changes hoge main se"
   ]
  },
  {
   "cell_type": "code",
   "execution_count": 27,
   "id": "c3dc9c4e-5d91-43f5-bd6e-08345425bc74",
   "metadata": {},
   "outputs": [],
   "source": [
    "l.remove('delhi')"
   ]
  },
  {
   "cell_type": "code",
   "execution_count": 28,
   "id": "0c0db35c-191b-4311-a1b5-a245711e0824",
   "metadata": {},
   "outputs": [
    {
     "name": "stdout",
     "output_type": "stream",
     "text": [
      "['rahul', 'ravi', 'seeta', 333, 6666, 77, 333, 'ravi', 'vipin', 'seema', 'ravi', 3]\n",
      "['rahul', 'ravi', 'seeta', 333, 6666, 77, 333, 'ravi', 'vipin', 'seema', 'ravi', 3, 'delhi']\n"
     ]
    }
   ],
   "source": [
    "print(l2)\n",
    "print(l3)"
   ]
  },
  {
   "cell_type": "code",
   "execution_count": 29,
   "id": "620f83cf-277c-4fe4-9323-39528ec3f57a",
   "metadata": {},
   "outputs": [],
   "source": [
    "k=[33,89,'ram','sham',67]\n",
    "k2=[90,56,'rohit','rahul']"
   ]
  },
  {
   "cell_type": "code",
   "execution_count": 33,
   "id": "02372629-f8f6-4fc4-932c-c769997a5ffb",
   "metadata": {},
   "outputs": [],
   "source": [
    "k3=k+k2\n",
    "k.extend(k2)"
   ]
  },
  {
   "cell_type": "code",
   "execution_count": 34,
   "id": "7796325c-6f68-49c1-945e-f4ee6ecaedb6",
   "metadata": {},
   "outputs": [
    {
     "data": {
      "text/plain": [
       "[33, 89, 'ram', 'sham', 67, 90, 56, 'rohit', 'rahul', 90, 56, 'rohit', 'rahul']"
      ]
     },
     "execution_count": 34,
     "metadata": {},
     "output_type": "execute_result"
    }
   ],
   "source": [
    "k"
   ]
  },
  {
   "cell_type": "code",
   "execution_count": 3,
   "id": "18c90fc4-a986-4df3-a9d6-65983e1fea67",
   "metadata": {},
   "outputs": [
    {
     "name": "stdin",
     "output_type": "stream",
     "text": [
      "enter the size of list 4\n",
      "enter the number 8\n",
      "enter the number 9\n",
      "enter the number 'uu'\n",
      "enter the number 'mm'\n"
     ]
    },
    {
     "name": "stdout",
     "output_type": "stream",
     "text": [
      "[8, 9, 'uu', 'mm']\n"
     ]
    }
   ],
   "source": [
    "x=int(input('enter the size of list'))\n",
    "k=[]\n",
    "for i in range(0,x):\n",
    "    v=eval(input('enter the number'))\n",
    "    k.append(v)\n",
    "print(k)    "
   ]
  },
  {
   "cell_type": "markdown",
   "id": "c40e3e0e-4224-4171-9c5d-0a4c60e7b74a",
   "metadata": {},
   "source": [
    "# write a programme to remove duplicate element fron list"
   ]
  },
  {
   "cell_type": "code",
   "execution_count": 4,
   "id": "bd98a2fb-3745-4e4c-8f8f-0145c01b7819",
   "metadata": {},
   "outputs": [
    {
     "name": "stdout",
     "output_type": "stream",
     "text": [
      "[22, 0, 88, 66, 'dd', 'ss']\n"
     ]
    }
   ],
   "source": [
    "z=[22,00,88,66,'dd','ss',22,'dd',22]\n",
    "y=[]\n",
    "for i in z:\n",
    "    if i not in y:\n",
    "        y.append(i)\n",
    "print(y)        \n",
    "     "
   ]
  },
  {
   "cell_type": "markdown",
   "id": "60a965a7-88a3-4a5b-a5b4-954290d37125",
   "metadata": {},
   "source": [
    "# write a programme to find a prime number in list\n",
    "# write a programme to find out the string value in list\n",
    "# write a programme to swap any number of list"
   ]
  },
  {
   "cell_type": "code",
   "execution_count": 48,
   "id": "daa5ccd6-e028-4aac-a92f-212d561323b9",
   "metadata": {},
   "outputs": [
    {
     "name": "stdout",
     "output_type": "stream",
     "text": [
      "[31, 67, 53]\n"
     ]
    }
   ],
   "source": [
    "z=[22,31,21,67,54,53,28,30,69]\n",
    "q=[]\n",
    "\n",
    "for i in z:\n",
    "    c=0\n",
    "    for n in range (2,i):\n",
    "        if i%n==0:\n",
    "            c=1\n",
    "            break\n",
    "    if c==0:\n",
    "        q.append(i)\n",
    "print(q)    \n",
    "\n",
    "\n",
    "\n",
    "\n",
    "            "
   ]
  },
  {
   "cell_type": "code",
   "execution_count": 51,
   "id": "941ad470-a29f-4f08-ae5b-400c04ab0a2c",
   "metadata": {},
   "outputs": [
    {
     "name": "stdout",
     "output_type": "stream",
     "text": [
      "['ram', 'shyam', 'seema']\n"
     ]
    }
   ],
   "source": [
    "z=[22,31,'ram','shyam',30,'seema',69]\n",
    "h=[]\n",
    "for i in z:\n",
    "    if type(i)==str:\n",
    "        h.append(i)\n",
    "print(h)    "
   ]
  },
  {
   "cell_type": "code",
   "execution_count": 4,
   "id": "605548c0-24cf-45be-a8cc-4a0af81fbf56",
   "metadata": {},
   "outputs": [
    {
     "name": "stdout",
     "output_type": "stream",
     "text": [
      "[30, 69, 22, 31]\n"
     ]
    }
   ],
   "source": [
    "z=[22,31,30,69]\n",
    "z[0],z[2],z[1],z[3]=z[2],z[0],z[3],z[1]\n",
    "print(z)"
   ]
  },
  {
   "cell_type": "code",
   "execution_count": 5,
   "id": "93079546-1f8f-4f0c-b8d8-6ee910b8ec56",
   "metadata": {},
   "outputs": [
    {
     "name": "stdout",
     "output_type": "stream",
     "text": [
      "[22, 30, 31, 69]\n",
      "[69, 31, 30, 22]\n"
     ]
    }
   ],
   "source": [
    "z.sort()\n",
    "print(z)\n",
    "z.sort(reverse=True)\n",
    "print(z)"
   ]
  },
  {
   "cell_type": "code",
   "execution_count": 11,
   "id": "12aa9791-67be-4399-8cd8-abb71c353fe2",
   "metadata": {},
   "outputs": [
    {
     "name": "stdout",
     "output_type": "stream",
     "text": [
      "['bbb', 'ddd', 'hhh', 'mmm', 'uuu']\n"
     ]
    }
   ],
   "source": [
    "v=['uuu','hhh','bbb','mmm','ddd']\n",
    "v.sort()\n",
    "print(v)"
   ]
  },
  {
   "cell_type": "markdown",
   "id": "7e0bec05-fa11-4960-93e0-3083df1591ae",
   "metadata": {},
   "source": [
    "# list comprehension\n"
   ]
  },
  {
   "cell_type": "code",
   "execution_count": 16,
   "id": "0161d175-8e8b-44a0-b0c7-b3dd1dd0e1cd",
   "metadata": {},
   "outputs": [
    {
     "data": {
      "text/plain": [
       "[16, 64, 81, 36, 36]"
      ]
     },
     "execution_count": 16,
     "metadata": {},
     "output_type": "execute_result"
    }
   ],
   "source": [
    "# in line code\n",
    "k=[4,8,9,6,6]\n",
    "u=[]\n",
    "for i in k:\n",
    "    t=i**2\n",
    "    u.append(t)\n",
    "u"
   ]
  },
  {
   "cell_type": "code",
   "execution_count": 17,
   "id": "793b8848-0e2b-4f6f-a9b8-09d9c33077ed",
   "metadata": {},
   "outputs": [
    {
     "data": {
      "text/plain": [
       "[16, 64, 81, 36, 36]"
      ]
     },
     "execution_count": 17,
     "metadata": {},
     "output_type": "execute_result"
    }
   ],
   "source": [
    "p=[i**2 for i in k]#list comprehension\n",
    "\n",
    "p"
   ]
  },
  {
   "cell_type": "code",
   "execution_count": 18,
   "id": "29543053-d68c-4787-a1b3-a33efa0ff6e3",
   "metadata": {},
   "outputs": [
    {
     "data": {
      "text/plain": [
       "[4, 8, 6, 6]"
      ]
     },
     "execution_count": 18,
     "metadata": {},
     "output_type": "execute_result"
    }
   ],
   "source": [
    "m=[i for i in k if i%2==0]\n",
    "m"
   ]
  },
  {
   "cell_type": "markdown",
   "id": "387c85ee-10ca-4f3c-8869-c56caf1df54d",
   "metadata": {},
   "source": [
    "# dictionary"
   ]
  },
  {
   "cell_type": "code",
   "execution_count": 2,
   "id": "dd335e51-adc3-4aab-84d9-9eddf49f6d33",
   "metadata": {},
   "outputs": [],
   "source": [
    "# denoted by curly braces , mutable, store value at key, dictionary key cannot be duplicateand null,it is in odered format,\n",
    "#collection of object type element\n",
    "#key can be any data types"
   ]
  },
  {
   "cell_type": "code",
   "execution_count": 23,
   "id": "c6c2abe1-a7fa-4f80-b240-d8d7d2d94276",
   "metadata": {},
   "outputs": [],
   "source": [
    "d={123:'ram',234:'seeta',231:'rohit',325:'shobhit',367:'shyam'}"
   ]
  },
  {
   "cell_type": "code",
   "execution_count": 5,
   "id": "6f70bbf2-5b09-4674-b66e-5bc619e6b50c",
   "metadata": {},
   "outputs": [
    {
     "name": "stdout",
     "output_type": "stream",
     "text": [
      "dict_keys([123, 234, 231, 325, 367])\n"
     ]
    }
   ],
   "source": [
    "print(d.keys())"
   ]
  },
  {
   "cell_type": "code",
   "execution_count": 16,
   "id": "8ee87679-4dc9-446d-be49-1979b0f6c5e2",
   "metadata": {},
   "outputs": [
    {
     "name": "stdout",
     "output_type": "stream",
     "text": [
      "dict_values(['rohit', 'shobhit'])\n"
     ]
    }
   ],
   "source": [
    "print(d.values())"
   ]
  },
  {
   "cell_type": "code",
   "execution_count": 7,
   "id": "623f4680-fae2-4139-ad6b-422de9dd754f",
   "metadata": {},
   "outputs": [
    {
     "name": "stdout",
     "output_type": "stream",
     "text": [
      "dict_items([(123, 'ram'), (234, 'seeta'), (231, 'rohit'), (325, 'shobhit'), (367, 'shyam')])\n"
     ]
    }
   ],
   "source": [
    "print(d.items())"
   ]
  },
  {
   "cell_type": "code",
   "execution_count": 11,
   "id": "9b56855f-1b3f-453c-aa90-bb7a383be945",
   "metadata": {},
   "outputs": [
    {
     "name": "stdout",
     "output_type": "stream",
     "text": [
      "123   ram\n",
      "234   seeta\n",
      "231   rohit\n",
      "325   shobhit\n",
      "367   shyam\n"
     ]
    }
   ],
   "source": [
    "for i,j in d.items():\n",
    "    print(i,' ',j)"
   ]
  },
  {
   "cell_type": "code",
   "execution_count": 15,
   "id": "b57ffe07-1bfe-4d2a-9ebf-80d5796f070e",
   "metadata": {},
   "outputs": [
    {
     "data": {
      "text/plain": [
       "(367, 'shyam')"
      ]
     },
     "execution_count": 15,
     "metadata": {},
     "output_type": "execute_result"
    }
   ],
   "source": [
    "d.pop(234)# yha key ka nam dena zruri h \n",
    "d.popitem()#last element ko delete krega"
   ]
  },
  {
   "cell_type": "code",
   "execution_count": 24,
   "id": "bb4bec8f-b817-413a-9370-5f4e5306c8cc",
   "metadata": {},
   "outputs": [
    {
     "name": "stdin",
     "output_type": "stream",
     "text": [
      "enter element tou want to dlt 2\n",
      "enter the key 123\n",
      "enter the key 367\n"
     ]
    }
   ],
   "source": [
    "n=int(input(\"enter element tou want to dlt\"))\n",
    "for i in range(0,n):\n",
    "    t=int(input('enter the key'))\n",
    "    d.pop(t)      "
   ]
  },
  {
   "cell_type": "code",
   "execution_count": 21,
   "id": "e6297442-ade6-46c8-a425-0ff24e1acde9",
   "metadata": {},
   "outputs": [],
   "source": [
    "d.clear()"
   ]
  },
  {
   "cell_type": "code",
   "execution_count": 22,
   "id": "57fa7cdf-85a6-4c3a-badf-9fef838e692a",
   "metadata": {},
   "outputs": [
    {
     "name": "stdout",
     "output_type": "stream",
     "text": [
      "{}\n"
     ]
    }
   ],
   "source": [
    "print(d)"
   ]
  },
  {
   "cell_type": "code",
   "execution_count": 25,
   "id": "582d3556-3df0-4291-b475-24e5f2f60870",
   "metadata": {},
   "outputs": [
    {
     "name": "stdout",
     "output_type": "stream",
     "text": [
      "shobhit\n"
     ]
    }
   ],
   "source": [
    "print(d.get(325))"
   ]
  },
  {
   "cell_type": "code",
   "execution_count": 26,
   "id": "ee38068c-d424-4c66-beea-2af038a2ef2e",
   "metadata": {},
   "outputs": [
    {
     "name": "stdout",
     "output_type": "stream",
     "text": [
      "shobhit\n"
     ]
    }
   ],
   "source": [
    "print(d[325])"
   ]
  },
  {
   "cell_type": "code",
   "execution_count": 28,
   "id": "2f6684ac-f65a-4973-8a66-6c1cc8737fd8",
   "metadata": {},
   "outputs": [
    {
     "data": {
      "text/plain": [
       "'ducat'"
      ]
     },
     "execution_count": 28,
     "metadata": {},
     "output_type": "execute_result"
    }
   ],
   "source": [
    "d.setdefault(300,'ducat')#add new item"
   ]
  },
  {
   "cell_type": "code",
   "execution_count": 1,
   "id": "b7094e4a-c510-4367-8ac3-4ca5bd9a2a63",
   "metadata": {},
   "outputs": [
    {
     "data": {
      "text/plain": [
       "{'id': [111, 222, 333],\n",
       " 'name': ['ravi', 'sunny', 'rohit'],\n",
       " 'lastname': ['sharma', 'verma', 'nehra'],\n",
       " 'age': [23, 45, 34],\n",
       " 'contact': [3455433, 4543332, 89776504]}"
      ]
     },
     "execution_count": 1,
     "metadata": {},
     "output_type": "execute_result"
    }
   ],
   "source": [
    "d={'id':[111,222,333],'name':['ravi','sunny','rohit'],'lastname':['sharma','verma','nehra'],'age':[23,45,34],'contact':[3455433,4543332,89776504]}\n",
    "d"
   ]
  },
  {
   "cell_type": "code",
   "execution_count": 3,
   "id": "b2045552-e4d5-45c6-8113-fd7696cff411",
   "metadata": {},
   "outputs": [
    {
     "name": "stdout",
     "output_type": "stream",
     "text": [
      "id   [111, 222, 333]\n",
      "name   ['ravi', 'sunny', 'rohit']\n",
      "lastname   ['sharma', 'verma', 'nehra']\n",
      "age   [23, 45, 34]\n",
      "contact   [3455433, 4543332, 89776504]\n"
     ]
    }
   ],
   "source": [
    "for i ,j in d.items():\n",
    "    print(i,\" \",j)"
   ]
  },
  {
   "cell_type": "code",
   "execution_count": 5,
   "id": "f3fca787-2604-4f19-906d-c35671ebedbf",
   "metadata": {},
   "outputs": [
    {
     "name": "stdout",
     "output_type": "stream",
     "text": [
      "    id   name lastname  age   contact\n",
      "0  111   ravi   sharma   23   3455433\n",
      "1  222  sunny    verma   45   4543332\n",
      "2  333  rohit    nehra   34  89776504\n"
     ]
    }
   ],
   "source": [
    "import pandas as pd\n",
    "df=pd.DataFrame(d) #to save in csv file...... df.to_csv(\"d://file name.csv\")\n",
    "print(df)"
   ]
  },
  {
   "cell_type": "code",
   "execution_count": 6,
   "id": "2136673e-4d30-42fd-8ea2-d001797e0ddb",
   "metadata": {},
   "outputs": [],
   "source": [
    "#Dictionary comprehension is a in line code"
   ]
  },
  {
   "cell_type": "code",
   "execution_count": 8,
   "id": "7d5b20aa-99fc-426c-9405-c4112d21e50f",
   "metadata": {},
   "outputs": [
    {
     "name": "stdout",
     "output_type": "stream",
     "text": [
      "{1: 'odd', 2: 'even', 3: 'odd', 4: 'even', 5: 'odd', 6: 'even', 7: 'odd', 8: 'even', 9: 'odd'}\n"
     ]
    },
    {
     "name": "stderr",
     "output_type": "stream",
     "text": [
      "<>:2: SyntaxWarning: invalid decimal literal\n",
      "<>:2: SyntaxWarning: invalid decimal literal\n",
      "C:\\Users\\ASus\\AppData\\Local\\Temp\\ipykernel_15616\\3413036569.py:2: SyntaxWarning: invalid decimal literal\n",
      "  s={i:'even' if i%2==0else 'odd' for i in range(1,10)}\n"
     ]
    }
   ],
   "source": [
    "s={i:i**2 for i in range (1,10)}\n",
    "s={i:'even' if i%2==0else 'odd' for i in range(1,10)}\n",
    "print(s)"
   ]
  },
  {
   "cell_type": "markdown",
   "id": "de209ba5-384e-48c5-92e3-440be9a5c326",
   "metadata": {},
   "source": [
    "# Set"
   ]
  },
  {
   "cell_type": "code",
   "execution_count": 10,
   "id": "2e30d4e6-3a2c-48fd-8f5b-f6ac1a4f57b0",
   "metadata": {},
   "outputs": [],
   "source": [
    "#curly brases\n",
    "#remove duplicate values automatically\n",
    "#set remove object type elements\n",
    "#it store data randomly\n",
    "#set have no oder\n",
    "#it is mutable\n",
    "#sets are usefull to perforn mathmatical operation"
   ]
  },
  {
   "cell_type": "code",
   "execution_count": 23,
   "id": "10372078-912a-4049-a67c-350cdcdf841b",
   "metadata": {},
   "outputs": [
    {
     "name": "stdout",
     "output_type": "stream",
     "text": [
      "{'nikkhil', 'ravi', 'ducat', 4, 5, 6, 'sachin'}\n"
     ]
    }
   ],
   "source": [
    "s={4,5,6,'ravi', 'nikkhil','sachin',5,6,'ducat'}\n",
    "print(s)"
   ]
  },
  {
   "cell_type": "code",
   "execution_count": 12,
   "id": "9cf262b8-9d1f-43f4-a612-6db8e288e29b",
   "metadata": {},
   "outputs": [
    {
     "name": "stdout",
     "output_type": "stream",
     "text": [
      "{'nikkhil', 'ravi', 'ducat', 4, 5, 6, 'sachin'}\n"
     ]
    }
   ],
   "source": [
    "print(s)"
   ]
  },
  {
   "cell_type": "code",
   "execution_count": 13,
   "id": "5bed36ab-f995-4e8e-902d-ccd0aa13df6c",
   "metadata": {},
   "outputs": [
    {
     "name": "stdout",
     "output_type": "stream",
     "text": [
      "{'nikkhil', 'ravi', 'ducat', 5, 6, 'sachin'}\n"
     ]
    }
   ],
   "source": [
    "s.remove(4)\n",
    "print(s)"
   ]
  },
  {
   "cell_type": "code",
   "execution_count": 15,
   "id": "539538d7-d80a-4e40-8a30-f309682cb6d7",
   "metadata": {},
   "outputs": [
    {
     "ename": "KeyError",
     "evalue": "'esha'",
     "output_type": "error",
     "traceback": [
      "\u001b[1;31m---------------------------------------------------------------------------\u001b[0m",
      "\u001b[1;31mKeyError\u001b[0m                                  Traceback (most recent call last)",
      "Cell \u001b[1;32mIn[15], line 1\u001b[0m\n\u001b[1;32m----> 1\u001b[0m s\u001b[38;5;241m.\u001b[39mremove(\u001b[38;5;124m'\u001b[39m\u001b[38;5;124mesha\u001b[39m\u001b[38;5;124m'\u001b[39m)\n",
      "\u001b[1;31mKeyError\u001b[0m: 'esha'"
     ]
    }
   ],
   "source": [
    "s.remove('esha')# koi element nhi h to error dega"
   ]
  },
  {
   "cell_type": "code",
   "execution_count": 16,
   "id": "f0091e20-03b5-4593-9f42-4e6cfb2b9b58",
   "metadata": {},
   "outputs": [],
   "source": [
    "s.discard('esha')#koi data nhi hoga to ignore kar dega"
   ]
  },
  {
   "cell_type": "code",
   "execution_count": 17,
   "id": "0ba1e1ee-c20b-4837-b12d-a59c57c3d84b",
   "metadata": {},
   "outputs": [],
   "source": [
    "s.clear()"
   ]
  },
  {
   "cell_type": "code",
   "execution_count": 18,
   "id": "ab4a3545-aa6a-4616-8d0a-4af3601c79f3",
   "metadata": {},
   "outputs": [
    {
     "name": "stdout",
     "output_type": "stream",
     "text": [
      "set()\n"
     ]
    }
   ],
   "source": [
    "print(s)"
   ]
  },
  {
   "cell_type": "code",
   "execution_count": 26,
   "id": "55ba4ca1-6cdb-4a1b-a1d4-722c9f2853fa",
   "metadata": {},
   "outputs": [
    {
     "name": "stdout",
     "output_type": "stream",
     "text": [
      "{'nikkhil', 4, 5, 6, 999, 777, 'ravi', 'ducat', 666, 'sachin'}\n"
     ]
    }
   ],
   "source": [
    "\n",
    "s2={666,777,999,5,6,'ducat'}\n",
    "print(s.union(s2))"
   ]
  },
  {
   "cell_type": "code",
   "execution_count": 27,
   "id": "3e2e0eea-4686-49fd-957f-6b5f0199842b",
   "metadata": {},
   "outputs": [
    {
     "name": "stdout",
     "output_type": "stream",
     "text": [
      "{'nikkhil', 'sachin', 4, 'ravi'}\n"
     ]
    }
   ],
   "source": [
    "print(s.difference(s2))"
   ]
  },
  {
   "cell_type": "code",
   "execution_count": 28,
   "id": "a5329484-fd31-409e-9b4b-955fee148958",
   "metadata": {},
   "outputs": [
    {
     "name": "stdout",
     "output_type": "stream",
     "text": [
      "False\n"
     ]
    }
   ],
   "source": [
    "print(s.issubset(s2))"
   ]
  },
  {
   "cell_type": "code",
   "execution_count": 29,
   "id": "bce0aa4c-d2dc-4629-ad81-49540ff9a1b3",
   "metadata": {},
   "outputs": [
    {
     "name": "stdout",
     "output_type": "stream",
     "text": [
      "False\n"
     ]
    }
   ],
   "source": [
    "print(s.issuperset(s2))"
   ]
  },
  {
   "cell_type": "code",
   "execution_count": 30,
   "id": "7e63fb23-2a8a-44e6-9b50-43b8af65e07a",
   "metadata": {},
   "outputs": [
    {
     "name": "stdout",
     "output_type": "stream",
     "text": [
      "{'nikkhil', 'ravi', 'ducat', 4, 5, 6, 'sonu', 'sachin'}\n"
     ]
    }
   ],
   "source": [
    "s.add('sonu')\n",
    "print(s)"
   ]
  },
  {
   "cell_type": "code",
   "execution_count": 33,
   "id": "e677e945-f207-47c6-a7cf-7ba83a198e53",
   "metadata": {},
   "outputs": [
    {
     "name": "stdin",
     "output_type": "stream",
     "text": [
      "enter thr size of set 7\n"
     ]
    }
   ],
   "source": [
    "x=int(input('enter thr size of set'))\n",
    "s=set()\n",
    "for i in range(0,x):\n",
    "    n=eval(input('enter the value'))\n",
    "    s.add(n)\n",
    "print(s)    "
   ]
  },
  {
   "cell_type": "markdown",
   "id": "a1a616e0-65c4-4d05-9bc4-c6b8e01ead7d",
   "metadata": {},
   "source": [
    "# FUNCTION "
   ]
  },
  {
   "cell_type": "code",
   "execution_count": 1,
   "id": "8c5d13a6-e6cd-4c24-b7af-c427ffbc43e5",
   "metadata": {},
   "outputs": [],
   "source": [
    "#We can call code many types with the help of function\n",
    "#2 types\n",
    "#user define       ,       system define"
   ]
  },
  {
   "cell_type": "code",
   "execution_count": 2,
   "id": "ff7aa17d-5a46-411c-93db-57295e61e03e",
   "metadata": {},
   "outputs": [],
   "source": [
    "#system define functions are pre defined in python\n"
   ]
  },
  {
   "cell_type": "code",
   "execution_count": 3,
   "id": "b3328dce-1f96-467f-a49a-214ba3081361",
   "metadata": {},
   "outputs": [],
   "source": [
    "import math "
   ]
  },
  {
   "cell_type": "code",
   "execution_count": 4,
   "id": "be2bb0ea-0321-4449-b3f9-3e33c61f6dc2",
   "metadata": {},
   "outputs": [
    {
     "name": "stdout",
     "output_type": "stream",
     "text": [
      "120\n"
     ]
    }
   ],
   "source": [
    "print(math.factorial(5))"
   ]
  },
  {
   "cell_type": "code",
   "execution_count": 1,
   "id": "676a67a2-7ef0-4bf9-8963-a6f84ed92d17",
   "metadata": {},
   "outputs": [],
   "source": [
    "#user define function\n",
    "# we have 12 types of user define function\n",
    "#1. parameterize                           2.parameterless\n",
    "#3. default parameterize                   4.positional argument\n",
    "#5. anonymous function(advanced function)  6.return type\n",
    "#7.recurssive function                     8.argument\n",
    "#9.keyword argument                        10.itreater\n",
    "#11.decorater                              12.generater\n",
    "#13.enumerater"
   ]
  },
  {
   "cell_type": "markdown",
   "id": "010d0f10-96a7-4abf-a4a8-db2b91c42a30",
   "metadata": {},
   "source": [
    "# Parameterize"
   ]
  },
  {
   "cell_type": "code",
   "execution_count": 2,
   "id": "1e9be476-72da-472e-a53f-e782f399876c",
   "metadata": {},
   "outputs": [
    {
     "name": "stdout",
     "output_type": "stream",
     "text": [
      "21\n"
     ]
    }
   ],
   "source": [
    "#def is a keyword to create defination of function\n",
    "def add(x,y,z):\n",
    "    t=x+y+z\n",
    "    print(t)\n",
    "add(5,7,9)    "
   ]
  },
  {
   "cell_type": "code",
   "execution_count": 4,
   "id": "8608f816-5a46-452a-bc5f-898bf75d6a8e",
   "metadata": {},
   "outputs": [
    {
     "name": "stdin",
     "output_type": "stream",
     "text": [
      "enter value 7\n",
      "enter value 8\n",
      "enter value 9\n"
     ]
    },
    {
     "name": "stdout",
     "output_type": "stream",
     "text": [
      "24\n"
     ]
    }
   ],
   "source": [
    "def add(x,y,z):\n",
    "    t=x+y+z\n",
    "    print(t)\n",
    "a=int(input('enter value'))\n",
    "b=int(input('enter value'))\n",
    "c=int(input('enter value'))\n",
    "add(a,b,c)      "
   ]
  },
  {
   "cell_type": "code",
   "execution_count": 17,
   "id": "e86b6b35-dcf3-4484-b008-95f454829aad",
   "metadata": {},
   "outputs": [
    {
     "name": "stdout",
     "output_type": "stream",
     "text": [
      "emp id is 123\n",
      "emp name is ram\n",
      "emp id lastname kumar\n",
      "emp id age 25\n"
     ]
    }
   ],
   "source": [
    "def show(id,name,lastname,age):\n",
    "    print('emp id is',id)\n",
    "    print('emp name is',name) \n",
    "    print('emp id lastname',lastname)\n",
    "    print('emp id age',age)  \n",
    "\n",
    "show(123,'ram','kumar',25)          "
   ]
  },
  {
   "cell_type": "code",
   "execution_count": 29,
   "id": "5f256a28-ede0-4666-b468-d3c3ca752f0b",
   "metadata": {},
   "outputs": [
    {
     "name": "stdout",
     "output_type": "stream",
     "text": [
      "[1, 2, 3, 8, 9, 54]\n"
     ]
    }
   ],
   "source": [
    "# SORTING OF LIST BY FUNCTION\n",
    "def sort(t):\n",
    "    for i in t:\n",
    "        for j in range (0,len(k)-1):\n",
    "            if t[j]>t[j+1]:\n",
    "                 t[j],t[j+1]= t[j+1],t[j]\n",
    "                \n",
    "    return t\n",
    "\n",
    "k=[3,8,2,54,1,9]\n",
    "h=sort(k)\n",
    "print(h)\n"
   ]
  },
  {
   "cell_type": "code",
   "execution_count": null,
   "id": "9b3d0182-4fc5-4f22-aabb-158b79335bb4",
   "metadata": {},
   "outputs": [],
   "source": []
  },
  {
   "cell_type": "markdown",
   "id": "a245b8ca-cd55-4623-8239-613af2ba1872",
   "metadata": {},
   "source": [
    "# Parameterless"
   ]
  },
  {
   "cell_type": "code",
   "execution_count": 7,
   "id": "793e6214-1015-4fac-98a0-e89c248852b2",
   "metadata": {},
   "outputs": [
    {
     "name": "stdout",
     "output_type": "stream",
     "text": [
      "22\n"
     ]
    }
   ],
   "source": [
    "def add():\n",
    "    a=6\n",
    "    b=8\n",
    "    c=8\n",
    "    z=a+b+c\n",
    "    print(z)\n",
    "add()"
   ]
  },
  {
   "cell_type": "markdown",
   "id": "ebb6d1ed-3023-44be-9526-8067c7eb71e9",
   "metadata": {},
   "source": [
    "# default parameterize function"
   ]
  },
  {
   "cell_type": "code",
   "execution_count": 23,
   "id": "4ea38a70-63d4-477d-a64f-985711cee5d7",
   "metadata": {},
   "outputs": [
    {
     "ename": "SyntaxError",
     "evalue": "non-default argument follows default argument (2085728681.py, line 1)",
     "output_type": "error",
     "traceback": [
      "\u001b[1;36m  Cell \u001b[1;32mIn[23], line 1\u001b[1;36m\u001b[0m\n\u001b[1;33m    def show (id,name='RAM',last_name,salary):\u001b[0m\n\u001b[1;37m                            ^\u001b[0m\n\u001b[1;31mSyntaxError\u001b[0m\u001b[1;31m:\u001b[0m non-default argument follows default argument\n"
     ]
    }
   ],
   "source": [
    "def show (id,name='RAM',last_name,salary):\n",
    "    print('emp id is',id)\n",
    "    print('emp name is',name)\n",
    "    print('emp last_name is',last_name)\n",
    "    print('emp salary is',salary)\n",
    "show(111,'name','KUMAR',6000) # oder should be same)   "
   ]
  },
  {
   "cell_type": "markdown",
   "id": "c1bb98bb-3573-417c-b9bc-a521b792424e",
   "metadata": {},
   "source": [
    "# anonymous function"
   ]
  },
  {
   "cell_type": "code",
   "execution_count": null,
   "id": "50078fd4-63b6-4f29-b84e-f6293f2464dd",
   "metadata": {},
   "outputs": [],
   "source": [
    "# it is a inline function define by lambda keyword\n",
    "# isme function bna k variable me store kar sakte h\n",
    "#1 line me code ho sakta h\n",
    "#but loop nhi lgega and codition bhi nhi lgega\n",
    "#mathmatical calculation me sabse jyada use hoga\n",
    "\n",
    "#map\n",
    "#filter\n",
    "#reducedefa\n",
    " "
   ]
  },
  {
   "cell_type": "code",
   "execution_count": 7,
   "id": "737c6878-204a-47f6-ac6c-98e82ecd1819",
   "metadata": {},
   "outputs": [
    {
     "name": "stdout",
     "output_type": "stream",
     "text": [
      "16\n",
      "<function <lambda> at 0x000002CDC5370900>\n"
     ]
    }
   ],
   "source": [
    "def add(y,z):\n",
    "    t=y+z\n",
    "    print(t)\n",
    "add(8,8)\n",
    "\n",
    "# yha out put me kuchh plus nhi kar sakte"
   ]
  },
  {
   "cell_type": "code",
   "execution_count": 5,
   "id": "d39b376a-b3b9-4945-996d-06089badf388",
   "metadata": {},
   "outputs": [
    {
     "name": "stdout",
     "output_type": "stream",
     "text": [
      "13\n"
     ]
    }
   ],
   "source": [
    "t=lambda x,y:x+y #lambda k bad variable declare karna h , 1 bar me 1 he logic lgega\n",
    "print(t(5,5)+5-2)"
   ]
  },
  {
   "cell_type": "code",
   "execution_count": 8,
   "id": "e6d7f63c-458e-451b-9e0b-651a9db9020b",
   "metadata": {},
   "outputs": [
    {
     "name": "stdout",
     "output_type": "stream",
     "text": [
      "1080.0\n"
     ]
    }
   ],
   "source": [
    "t=lambda x:x*18/100 # salary ka tax\n",
    "print(t(6000))"
   ]
  },
  {
   "cell_type": "code",
   "execution_count": 9,
   "id": "a6ecaa7a-c3e6-486f-bc77-9c335c9d737e",
   "metadata": {},
   "outputs": [],
   "source": [
    "# excel sheet me 10000 employe ka tax nikalne k liye"
   ]
  },
  {
   "cell_type": "code",
   "execution_count": 2,
   "id": "dbe55dd9-4ce4-4100-b2f8-de5bed0e781f",
   "metadata": {},
   "outputs": [
    {
     "name": "stdout",
     "output_type": "stream",
     "text": [
      "[39200.0, 57000.0, 48000.0, 24250.0, 42300.0, 67200.0, 77600.0, 82800.0, 96000.0, 145500.0]\n"
     ]
    }
   ],
   "source": [
    "k=[40000,60000,50000,25000,45000,70000,80000,90000,100000,150000]# yha hm loop nhi lga sakte to ham use krege \"map\"\n",
    "k2=[2,5,4,3,6,4,3,8,4,3,5,8]\n",
    "t=list(map(lambda x,y:x-x*y/100,k,k2))\n",
    "print(t)\n"
   ]
  },
  {
   "cell_type": "code",
   "execution_count": 1,
   "id": "df2ce15e-afa4-4ccf-a19d-f32940d3a5f2",
   "metadata": {},
   "outputs": [
    {
     "name": "stdout",
     "output_type": "stream",
     "text": [
      "[39200.0, 57000.0, 48000.0, 24250.0, 42300.0, 67200.0, 77600.0, 82800.0, 96000.0, 145500.0]\n"
     ]
    }
   ],
   "source": [
    "#loop\n",
    "k=[40000,60000,50000,25000,45000,70000,80000,90000,100000,150000]\n",
    "k2=[2,5,4,3,6,4,3,8,4,3,5,8]\n",
    "k3=[]\n",
    "\n",
    "\n",
    "for i in range (0,len(k)):\n",
    "    u=k[i]*k2[i]/100\n",
    "    n=k[i]-u\n",
    "    k3.append(n)          \n",
    "print(k3)        "
   ]
  },
  {
   "cell_type": "code",
   "execution_count": 4,
   "id": "7878ec46-3fac-48dc-9626-491e0d2d0496",
   "metadata": {},
   "outputs": [
    {
     "name": "stdout",
     "output_type": "stream",
     "text": [
      "[True, True, True, False, True, True, False, False, False, False]\n"
     ]
    }
   ],
   "source": [
    "# map loop ka kaam karta h \n",
    "# map function 2 parameter leta h\n",
    "# map k sath ager condition dege to true false value return hogi\n",
    "# if else ka kaam filter krega\n",
    "\n",
    "p=list(map(lambda x:x>30000 and x<80000,k))\n",
    "print(p)"
   ]
  },
  {
   "cell_type": "code",
   "execution_count": 5,
   "id": "86d15862-27ec-4268-98fe-a64fb6361f01",
   "metadata": {},
   "outputs": [
    {
     "name": "stdout",
     "output_type": "stream",
     "text": [
      "[40000, 60000, 50000, 45000, 70000]\n"
     ]
    }
   ],
   "source": [
    "# using filter\n",
    "p=list(filter(lambda x:x>30000 and x<80000,k))\n",
    "print(p)"
   ]
  },
  {
   "cell_type": "code",
   "execution_count": 11,
   "id": "ec23feca-82db-4045-8c11-71f15a153be7",
   "metadata": {},
   "outputs": [
    {
     "name": "stdout",
     "output_type": "stream",
     "text": [
      "['hello', 'ducat', 'india', 'this', 'is', 'python', 'programing']\n",
      "['ducat', 'hello', 'india', 'is', 'programing', 'python', 'this']\n",
      "ducat hello india is programing python this\n"
     ]
    }
   ],
   "source": [
    "# reduce\n",
    "import functools\n",
    "h='hello ducat india this is python programing'\n",
    "# alphabet k according ascending order\n",
    "t=h.split()\n",
    "print(t)\n",
    "t.sort()\n",
    "print(t)\n",
    "s=functools.reduce(lambda x,y:x+\" \"+y,t)\n",
    "print(s)\n"
   ]
  },
  {
   "cell_type": "markdown",
   "id": "9bf036a8-b635-4b09-836d-94a314590228",
   "metadata": {},
   "source": [
    "# return type function"
   ]
  },
  {
   "cell_type": "code",
   "execution_count": 5,
   "id": "856bd9a8-2c0e-419a-b797-5b0b45ca9110",
   "metadata": {},
   "outputs": [
    {
     "name": "stdout",
     "output_type": "stream",
     "text": [
      "189\n"
     ]
    }
   ],
   "source": [
    "def add(y,z,x):\n",
    "    \n",
    "    t=y+z+x\n",
    "    return t\n",
    "# return key word return any value outside the function \n",
    "# we can edit the result\n",
    "# it terminate value return karne k bad koi cod nhi likh sakte\n",
    "# 1 function me 1 he return keyword kam krega\n",
    "#1 function me 1 return 2 value return kar sakta h\n",
    "h=add(5,7,9)\n",
    "\n",
    "\n",
    "print(h*9)\n",
    "\n",
    "\n"
   ]
  },
  {
   "cell_type": "code",
   "execution_count": 8,
   "id": "0da14b26-cbf7-4cfb-bf1a-af3dcc21eb54",
   "metadata": {},
   "outputs": [
    {
     "data": {
      "text/plain": [
       "[4, 8, 2, 'noida', 'ravi', 7, 'sonal', 666, 'ravi', 88]"
      ]
     },
     "execution_count": 8,
     "metadata": {},
     "output_type": "execute_result"
    }
   ],
   "source": [
    "k=[4,8,2,'ravi',7,'sonal',666,'ravi',88]\n",
    "k.insert(3,'noida')\n",
    "k"
   ]
  },
  {
   "cell_type": "code",
   "execution_count": 9,
   "id": "311f187a-bc74-4f4c-b00d-32203a7827f5",
   "metadata": {},
   "outputs": [
    {
     "data": {
      "text/plain": [
       "2"
      ]
     },
     "execution_count": 9,
     "metadata": {},
     "output_type": "execute_result"
    }
   ],
   "source": [
    "k.count('ravi')"
   ]
  },
  {
   "cell_type": "markdown",
   "id": "3824e038-9c80-4baf-bdd6-7be9adcbe7f2",
   "metadata": {},
   "source": [
    "# recurssive "
   ]
  },
  {
   "cell_type": "code",
   "execution_count": 12,
   "id": "6fff2f50-d6e7-40d8-9824-987b4572ffa0",
   "metadata": {},
   "outputs": [
    {
     "name": "stdout",
     "output_type": "stream",
     "text": [
      "55\n"
     ]
    }
   ],
   "source": [
    "# it is a process to call itself again and again untill the condition satisfied\n",
    "#sum with loop\n",
    "\n",
    "total=0\n",
    "for i in range (1,11):\n",
    "    total=total+i\n",
    "    \n",
    "print(total)\n",
    "\n"
   ]
  },
  {
   "cell_type": "code",
   "execution_count": 14,
   "id": "c2739077-8a33-4ce9-bc1b-fa47bd02b7a6",
   "metadata": {},
   "outputs": [
    {
     "name": "stdout",
     "output_type": "stream",
     "text": [
      "56\n"
     ]
    }
   ],
   "source": [
    "# sum without loop\n",
    "#jo kaam loop karta h vo kaam function me recurssive function karta h\n",
    "#fuction ko terminate return karta h\n",
    "\n",
    "def facto(x):\n",
    "    if(x==11):\n",
    "        return 1\n",
    "    else:\n",
    "        return x+facto(x+1)\n",
    "\n",
    "p=facto(1)\n",
    "print(p)\n",
    "        "
   ]
  },
  {
   "cell_type": "markdown",
   "id": "f3296238-8d22-422f-863f-0e4893937824",
   "metadata": {},
   "source": [
    "# arguement "
   ]
  },
  {
   "cell_type": "code",
   "execution_count": 30,
   "id": "7539a437-18cd-42a1-aa1f-f1e7bdb67380",
   "metadata": {},
   "outputs": [
    {
     "name": "stdout",
     "output_type": "stream",
     "text": [
      "(123, 'ram', 'sharma', 24, 8876554322)\n"
     ]
    }
   ],
   "source": [
    "# variable k age * show karta h kitne bhi input le sakte h\n",
    "#use- parameterised sare parameter dene zruri h but in this parameter skip kar sakte h\n",
    "def show(*a):\n",
    "    print(a)\n",
    "show(123,'ram','sharma',24,8876554322)"
   ]
  },
  {
   "cell_type": "markdown",
   "id": "c41e32f5-308c-4946-928f-8d1bd985901a",
   "metadata": {},
   "source": [
    "# arguement parametarised"
   ]
  },
  {
   "cell_type": "code",
   "execution_count": 31,
   "id": "4a3bf467-482f-434d-83b0-848084231005",
   "metadata": {},
   "outputs": [
    {
     "name": "stdout",
     "output_type": "stream",
     "text": [
      "{'id': 123, 'name': 'ram', 'fullname': 'sharma', 'age': 24, 'phoneno': 8876554322}\n",
      "{'id': 999, 'name': 'rahul', 'age': 27, 'salary': 90000}\n"
     ]
    }
   ],
   "source": [
    "def show(**a):\n",
    "    print(a)\n",
    "show(id=123,name='ram',fullname='sharma',age=24,phoneno=8876554322)\n",
    "show(id=999,name='rahul',age=27,salary=90000)\n"
   ]
  },
  {
   "cell_type": "markdown",
   "id": "944805dd-acee-446e-b538-2665399082f2",
   "metadata": {},
   "source": [
    "# iterater"
   ]
  },
  {
   "cell_type": "code",
   "execution_count": 35,
   "id": "3fe2f25a-af8f-4ff8-a1be-dffa8aaa2d86",
   "metadata": {},
   "outputs": [
    {
     "name": "stdout",
     "output_type": "stream",
     "text": [
      "6\n",
      "9\n",
      "7\n",
      "4\n",
      "7\n",
      "8\n"
     ]
    }
   ],
   "source": [
    "k=[6,9,7,4,7,8]\n",
    "t=iter(k)\n",
    "print(next(t))\n",
    "print(next(t))\n",
    "print(next(t))\n",
    "print(next(t))\n",
    "print(next(t))\n",
    "print(next(t))"
   ]
  },
  {
   "cell_type": "code",
   "execution_count": 39,
   "id": "35087c82-e16e-41db-8eaa-5cba1f546b88",
   "metadata": {},
   "outputs": [
    {
     "name": "stdout",
     "output_type": "stream",
     "text": [
      "p\n",
      "y\n",
      "t\n",
      "h\n",
      "o\n"
     ]
    }
   ],
   "source": [
    "q='python is easy'\n",
    "t=iter(q)\n",
    "print(next(t))\n",
    "print(next(t))\n",
    "print(next(t))\n",
    "print(next(t))\n",
    "print(next(t))"
   ]
  },
  {
   "cell_type": "markdown",
   "id": "3e6302e5-c94f-43e8-bfe3-c40cd105ba76",
   "metadata": {},
   "source": [
    "# generators"
   ]
  },
  {
   "cell_type": "code",
   "execution_count": 43,
   "id": "d582d228-d320-4f68-a605-ad9405a52c44",
   "metadata": {},
   "outputs": [
    {
     "name": "stdout",
     "output_type": "stream",
     "text": [
      "1\n"
     ]
    }
   ],
   "source": [
    "# return 1 he value dega\n",
    "def show():\n",
    "    for i in range (1,10):\n",
    "        return i\n",
    "k=show()\n",
    "print(k)\n"
   ]
  },
  {
   "cell_type": "code",
   "execution_count": 50,
   "id": "242a853c-7ebc-41f2-9c1e-8094f893ce5c",
   "metadata": {},
   "outputs": [
    {
     "name": "stdout",
     "output_type": "stream",
     "text": [
      "[1, 2, 3, 4, 5, 6, 7, 8, 9]\n"
     ]
    }
   ],
   "source": [
    "# then to overcome this we have generater\n",
    "#jab tak sari value return na ho jaye\n",
    "def show():\n",
    "    for i in range (1,10):\n",
    "        yield i\n",
    "k=show()\n",
    "t=[]\n",
    "for s in k:\n",
    "    t.append(s)\n",
    "print(t)\n",
    "    "
   ]
  },
  {
   "cell_type": "markdown",
   "id": "4a084a12-cbc5-44a0-a2d7-708dd1dc272f",
   "metadata": {},
   "source": [
    "# decorator"
   ]
  },
  {
   "cell_type": "code",
   "execution_count": 56,
   "id": "158cf497-e37f-4d24-8e9b-2ec7841e61b0",
   "metadata": {},
   "outputs": [
    {
     "name": "stdout",
     "output_type": "stream",
     "text": [
      "12000\n"
     ]
    }
   ],
   "source": [
    "#it is usefull to apply extra functionallity inexisting functions with any permanent change\n",
    "#it can never be called, it is applied\n",
    "#it is for modification and enhancing purpose\n",
    "#it is not for permanent change\n",
    "#it is denoted by @\n",
    "def smartbill(ebill):\n",
    "    def inner(u,r):\n",
    "        if u>300:\n",
    "            u=u-300\n",
    "            \n",
    "            return ebill(u,r)\n",
    "    return inner        \n",
    "\n",
    "\n",
    "@smartbill\n",
    "def ebill(u,r):\n",
    "    \n",
    "    t=u*r    \n",
    "    print(t)\n",
    "        \n",
    "\n",
    "ebill(1100,15)"
   ]
  },
  {
   "cell_type": "markdown",
   "id": "c8abfb21-c54a-4c56-9acc-42b86fce3987",
   "metadata": {},
   "source": [
    "# module and packages"
   ]
  },
  {
   "cell_type": "code",
   "execution_count": 58,
   "id": "e4c0814f-6b65-41bc-9b69-6bab5d5c3a05",
   "metadata": {},
   "outputs": [
    {
     "name": "stdout",
     "output_type": "stream",
     "text": [
      "25.0\n"
     ]
    }
   ],
   "source": [
    "#modules is also called function\n",
    "#package is collection of modules    , package call hoga import se\n",
    "#library is acollection of packages ,  library call hogi from se \n",
    "#pip command for installation \"python installer package\"\n",
    "#pep \"python enhance package\"  to update old version\n",
    "#package are of two types - 1 khud ka package bna sakte h   2 predefined package\n",
    "import math\n",
    "print(math.pow(5,2))\n",
    "\n",
    "\n",
    "def add(a,b):\n",
    "    c=a+b\n",
    "    print(c)\n",
    "def sub (x,y)\n",
    "    z=x-y\n",
    "    print(z)\n",
    "def mul(n,m):\n",
    "    v=n*m\n",
    "    print(v)\n",
    "\n",
    "#if it is saved in pycharm file then we can import it by its file name then we can use these functions"
   ]
  },
  {
   "cell_type": "markdown",
   "id": "11ec7a8e-706d-4137-abd6-de848aa26111",
   "metadata": {},
   "source": [
    "# opps programing"
   ]
  },
  {
   "cell_type": "code",
   "execution_count": null,
   "id": "600bfb2e-4b42-4382-8150-289a987f2a67",
   "metadata": {},
   "outputs": [],
   "source": [
    "#opps is a methodology to implement real world ideas\n",
    "#it is used for security purpose\n",
    "#object oriented programming\n",
    "#difference bt function and method -  function can be called directly  but if fuction is called by the object that is known as method    \n",
    "# opps provide reference programming and dynemic programming\n",
    "#opps provide structure programming\n",
    "# component of oops - \n",
    "#class--- class is blue print and prototype we can declare all data member and member function inside a class\n",
    "#method----- method is a member of your class , methods are use ful to perform any logics\n",
    "#object ---- it is a current instance of your class , it is useful to allocate dynamic memory of your class\n",
    "#attributes---- it also called class variables, it is amember of your class\n"
   ]
  },
  {
   "cell_type": "code",
   "execution_count": 2,
   "id": "b3fca15a-d608-4482-8f24-66dae30360a1",
   "metadata": {},
   "outputs": [
    {
     "name": "stdout",
     "output_type": "stream",
     "text": [
      "30\n"
     ]
    }
   ],
   "source": [
    "def add():\n",
    "    x=10\n",
    "    y=20\n",
    "    z=x+y\n",
    "    print(z)\n",
    "\n",
    "add()\n",
    "\n",
    "\n",
    "class cal:#class name\n",
    "    x=10 #attributes\n",
    "    y=20\n",
    "    def add(self):#method  1 class k ander 1 se jyada method ho sakte h\n",
    "        t=self.x+self.y  #logic\n",
    "        print(t)\n",
    "    def mul(self):\n",
    "        m=self.x*self.y\n",
    "        print(m)\n",
    "    def sub(self):\n",
    "        s=self.x-self.y\n",
    "        print(s)\n",
    "        \n",
    "\n",
    "\n",
    "\n",
    "\n",
    "\n"
   ]
  },
  {
   "cell_type": "code",
   "execution_count": null,
   "id": "06c7075b-7d6d-462b-9b33-9f764cb728a1",
   "metadata": {},
   "outputs": [],
   "source": [
    "def add(x,y):\n",
    "    return(x+y)\n",
    "def sub(x,y):\n",
    "    return(x-y)\n",
    "def mul(x,y):\n",
    "    return(x*y)\n",
    "def div(x,y):\n",
    "    return(x/y)\n",
    "a=int(input(\"enter 1st num:\"))\n",
    "b=int(input(\"enter 2nd num:\"))\n",
    "op=input(\"enter the operater\")\n",
    "if(op==\"+\"):\n",
    "    print(add(a,b))\n",
    "    \n",
    "\n",
    "                "
   ]
  },
  {
   "cell_type": "code",
   "execution_count": null,
   "id": "d4a2a6eb-ef2e-4479-8ef5-9af040f36692",
   "metadata": {},
   "outputs": [],
   "source": []
  }
 ],
 "metadata": {
  "kernelspec": {
   "display_name": "Python 3 (ipykernel)",
   "language": "python",
   "name": "python3"
  },
  "language_info": {
   "codemirror_mode": {
    "name": "ipython",
    "version": 3
   },
   "file_extension": ".py",
   "mimetype": "text/x-python",
   "name": "python",
   "nbconvert_exporter": "python",
   "pygments_lexer": "ipython3",
   "version": "3.11.7"
  }
 },
 "nbformat": 4,
 "nbformat_minor": 5
}
