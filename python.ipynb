{
 "cells": [
  {
   "cell_type": "code",
   "execution_count": 1,
   "id": "867d0ff4-33c4-4d88-98b7-975bafd00f4b",
   "metadata": {},
   "outputs": [
    {
     "name": "stdin",
     "output_type": "stream",
     "text": [
      "enter 1st value = 9\n",
      "enter 2nd value = 9\n",
      "enter 3rd value = 0\n"
     ]
    },
    {
     "name": "stdout",
     "output_type": "stream",
     "text": [
      "c is greater\n"
     ]
    }
   ],
   "source": [
    "a= float(input('enter 1st value ='))\n",
    "b=  float(input('enter 2nd value ='))\n",
    "c=  float(input('enter 3rd value ='))\n",
    "if ((a>b)and(a>c)):\n",
    "    print('a is greater')\n",
    "elif((b>a)and(b>c)):\n",
    "    print('b is greater')\n",
    "else:\n",
    "    print('c is greater')\n",
    "    "
   ]
  },
  {
   "cell_type": "code",
   "execution_count": 2,
   "id": "ee292c7f-a774-4bc1-8f8d-e701461ebe8c",
   "metadata": {},
   "outputs": [
    {
     "name": "stdin",
     "output_type": "stream",
     "text": [
      "enter any character j\n"
     ]
    },
    {
     "name": "stdout",
     "output_type": "stream",
     "text": [
      "Entered Character have no Vowels. \n"
     ]
    }
   ],
   "source": [
    "x=(input('enter any character'))\n",
    "if ('a'in x) or('e'in x) or('i' in x) or('o'in x) or('u'in x):\n",
    "    print('Entered Charachter have Vowel.')\n",
    "\n",
    "else:\n",
    "\n",
    "    print('Entered Character have no Vowels. ')\n",
    "    "
   ]
  },
  {
   "cell_type": "code",
   "execution_count": 3,
   "id": "cb88a079-a1c6-457c-8ce4-4fab8b7c52b7",
   "metadata": {},
   "outputs": [
    {
     "name": "stdout",
     "output_type": "stream",
     "text": [
      " welcome to vending machine here is the list of items\n",
      " 1 kurkure rs 20 \n",
      " 2 coke rs 20 \n",
      " 3 slice rs 40 \n",
      " 4 pastries rs 40\n"
     ]
    },
    {
     "name": "stdin",
     "output_type": "stream",
     "text": [
      "enter the money you have 90\n",
      "enter the number of product 3\n"
     ]
    },
    {
     "name": "stdout",
     "output_type": "stream",
     "text": [
      "you have to pay rs 30\n",
      "remaining amount: 60\n"
     ]
    }
   ],
   "source": [
    "print(' welcome to vending machine here is the list of items')\n",
    "print(' 1 kurkure rs 20 \\n 2 coke rs 20 \\n 3 slice rs 40 \\n 4 pastries rs 40')\n",
    "x = int(input('enter the money you have'))\n",
    "if x>=20 :\n",
    "        b=int(input('enter the number of product'))\n",
    "        if b==1 or b==2:\n",
    "              print('you have to pay rs 20')\n",
    "              \n",
    "              print('remaining amount:',x-20)\n",
    "        else:\n",
    "              print('you have to pay rs 30')\n",
    "              \n",
    "              print('remaining amount:',x-30)\n",
    "else:\n",
    "        print('get lost')\n",
    "    \n",
    "\n",
    "\n",
    "              \n",
    "        \n",
    "      \n",
    "\n",
    "      \n",
    "      "
   ]
  },
  {
   "cell_type": "code",
   "execution_count": null,
   "id": "20d931a2-7d52-48d6-aca8-3a3c4b8db1d4",
   "metadata": {},
   "outputs": [
    {
     "name": "stdout",
     "output_type": "stream",
     "text": [
      "2\n",
      "18\n",
      "12\n",
      "odd\n"
     ]
    }
   ],
   "source": [
    "#break\n",
    "#for else- jab for loop succesfully execute hota h tabhi else ka statement print hota h print hota, it is different from if else\n",
    "c = [1,2,17,18,19,11,12]\n",
    "for i in c:\n",
    "    if i%2==0:\n",
    "        \n",
    "        print(i)\n",
    "        continue\n",
    "    \n",
    "else:\n",
    "    print(\"odd\")\n",
    "    \n",
    "    \n",
    "\n",
    "x = [1,2,3,4,15,16,17,18,19,11,12]\n",
    "search = int(input('enter value'))\n",
    "for i in x:\n",
    "     if i== search:\n",
    "        print('found')\n",
    "        break\n",
    "else:\n",
    "    print('not found')\n",
    "# if we dnt put break then found k bad bhi loop chlega and not found will be print\n",
    "#else if k sath aya to jb bhi koi element match nhi hua to not found print hoga\n",
    "    \n"
   ]
  },
  {
   "cell_type": "code",
   "execution_count": 1,
   "id": "13bc9a2e-3b4b-4d8a-b981-85bd31b42bdd",
   "metadata": {},
   "outputs": [
    {
     "name": "stdout",
     "output_type": "stream",
     "text": [
      "1\n",
      "3\n",
      "5\n",
      "7\n",
      "9\n",
      "11\n",
      "13\n",
      "15\n",
      "17\n",
      "19\n",
      "21\n",
      "23\n",
      "25\n",
      "27\n",
      "29\n",
      "31\n",
      "33\n",
      "35\n",
      "37\n",
      "39\n",
      "41\n",
      "43\n",
      "45\n",
      "47\n",
      "49\n",
      "51\n",
      "53\n",
      "55\n",
      "57\n",
      "59\n",
      "61\n",
      "63\n",
      "65\n",
      "67\n",
      "69\n",
      "71\n",
      "73\n",
      "75\n",
      "77\n",
      "79\n",
      "81\n",
      "83\n",
      "85\n",
      "87\n",
      "89\n",
      "91\n",
      "93\n",
      "95\n",
      "97\n",
      "99\n"
     ]
    }
   ],
   "source": [
    "# continue \n",
    "#continue se nechevali  condition  ko nhi print krega infact loop par vapas bhej dega. \n",
    "for i in range (100):\n",
    "    if i%2==0 :\n",
    "        continue\n",
    "\n",
    "    print(i)\n",
    "    "
   ]
  },
  {
   "cell_type": "code",
   "execution_count": 18,
   "id": "7ea819f0-1c43-41ae-8a4b-ea98843d2d85",
   "metadata": {},
   "outputs": [
    {
     "name": "stdout",
     "output_type": "stream",
     "text": [
      "Hello_WorldHello_WorldHello_WorldHello_World\n",
      "dlroW_\n"
     ]
    }
   ],
   "source": [
    "#STRING collection of characters\n",
    "#it support concatination and slicing\n",
    "#it is immutable\n",
    "#it is +ve and -ve indexed support\n",
    "#it support multiplication\n",
    "x = 'Hello_World'* 4\n",
    "print(x)\n",
    "\n",
    "\n",
    "x = 'Hello_World'\n",
    "print(x[11:4:-1])"
   ]
  },
  {
   "cell_type": "code",
   "execution_count": 1,
   "id": "c34f7558-9ea8-4d25-b603-d8002c7a220e",
   "metadata": {},
   "outputs": [
    {
     "name": "stdout",
     "output_type": "stream",
     "text": [
      "I LOVE PYTTHON\n",
      "i love pytthon\n",
      "I Love Pytthon\n",
      "I lOVE pYTthON\n",
      "I love pytthon\n"
     ]
    }
   ],
   "source": [
    "x= \"i Love PytTHon\"\n",
    "print(x.upper())\n",
    "print(x.lower())\n",
    "print(x.title())\n",
    "print(x.swapcase())\n",
    "print(x.capitalize())\n",
    "\n"
   ]
  },
  {
   "cell_type": "code",
   "execution_count": 2,
   "id": "734c2085-7289-4057-8f1a-51823ed23316",
   "metadata": {},
   "outputs": [
    {
     "name": "stdout",
     "output_type": "stream",
     "text": [
      "['i', 'Love', 'PytTHon']\n"
     ]
    }
   ],
   "source": [
    "print(x.split())"
   ]
  },
  {
   "cell_type": "code",
   "execution_count": 3,
   "id": "39380479-0bb1-4542-b031-46451182d842",
   "metadata": {},
   "outputs": [
    {
     "name": "stdout",
     "output_type": "stream",
     "text": [
      "['i L', 've PytTH', 'n']\n"
     ]
    }
   ],
   "source": [
    "print(x.split(\"o\"))\n"
   ]
  },
  {
   "cell_type": "code",
   "execution_count": 6,
   "id": "8173b2c4-1710-4af5-9030-f9e25b1e285e",
   "metadata": {},
   "outputs": [
    {
     "name": "stdout",
     "output_type": "stream",
     "text": [
      "['abcd', 'gmail', 'fggh']\n"
     ]
    }
   ],
   "source": [
    "\n",
    "print(\"abcd@gmail@fggh\".split(\"@\"))"
   ]
  },
  {
   "cell_type": "code",
   "execution_count": 7,
   "id": "ebac95c0-5852-4172-a5a8-23ebb8a4fad6",
   "metadata": {},
   "outputs": [],
   "source": [
    "a,b,c=\"abcd@gmail@fggh\".split(\"@\")"
   ]
  },
  {
   "cell_type": "code",
   "execution_count": 10,
   "id": "17d8ff51-22c9-4c2a-9cd4-707081c9b680",
   "metadata": {},
   "outputs": [
    {
     "name": "stdout",
     "output_type": "stream",
     "text": [
      "abcd\n",
      "gmail\n",
      "fggh\n"
     ]
    }
   ],
   "source": [
    "print(a)\n",
    "print(b)\n",
    "print(c)\n",
    "     \n"
   ]
  },
  {
   "cell_type": "code",
   "execution_count": 7,
   "id": "3c630323-788a-49a1-91d0-4b111c5bb0b0",
   "metadata": {},
   "outputs": [
    {
     "name": "stdin",
     "output_type": "stream",
     "text": [
      "enter the 3 numbers 8 7 9 \n"
     ]
    },
    {
     "name": "stdout",
     "output_type": "stream",
     "text": [
      "s=8\n",
      "t=7\n",
      "u=9\n"
     ]
    }
   ],
   "source": [
    "s,t,u = map(int,input('enter the 3 numbers').split())\n",
    "print(f's={s}')\n",
    "print(f't={t}')\n",
    "print(f'u={u}')"
   ]
  },
  {
   "cell_type": "code",
   "execution_count": 14,
   "id": "5436ac3d-c47c-4dae-b2c7-c4613c406c56",
   "metadata": {},
   "outputs": [
    {
     "name": "stdout",
     "output_type": "stream",
     "text": [
      "1\n",
      "-1\n",
      "5\n"
     ]
    }
   ],
   "source": [
    "z= \"Your time is limited, so don’t waste it living someone else’s life. Don’t be trapped by dogma – which is living with the results of other people’s thinking.\" \n",
    "print(z.count('time'))\n",
    "print(z.find('loyal')) #index value #koi word nhi hoga to -1\n",
    "print(z.index('time'))#koi word nhi milega hoga to error dega\n",
    "\n",
    "\n"
   ]
  },
  {
   "cell_type": "code",
   "execution_count": 16,
   "id": "6b71990c-42d0-463e-b3bf-725580724291",
   "metadata": {},
   "outputs": [
    {
     "name": "stdout",
     "output_type": "stream",
     "text": [
      "aassvvbb\n"
     ]
    }
   ],
   "source": [
    "a= \"    aassvvbb  \"\n",
    "print(a.strip())# left and right k space htata h."
   ]
  },
  {
   "cell_type": "markdown",
   "id": "7acf0ca6-474d-417c-89dd-6dfc53b77ac7",
   "metadata": {},
   "source": [
    " <h1> LIST 12 function </h1>\n",
    "#all properties of string but list is mutable\n",
    "#LIST METHOD\n",
    "#to insert items in list -list.append, -list.insert, -list.extend\n",
    "#to remove items from list -list.pop, -list.clear, -list.remove\n",
    "#to change the position  -list.reverse, -list.sort\n",
    "#remaining -list.copy, -list.count, -list.index"
   ]
  },
  {
   "cell_type": "markdown",
   "id": "f30c5c9d-0ba1-459e-965f-3dc85e4ef074",
   "metadata": {},
   "source": [
    "APPEND()- we can insert items one by one.\n",
    "EXTEND()-insert more items in the form of list.\n",
    "INSERT() - insert items at particular index.eg- insert(2,'o')"
   ]
  },
  {
   "cell_type": "markdown",
   "id": "842da653-9b3c-4633-9467-db8b5c44bccd",
   "metadata": {},
   "source": [
    "POP()- delete last item from list if index is not specified other wise remove metioned index\n",
    "REMOV()E- delete mentioned index item,\n",
    "CLEAR()-delete all list"
   ]
  },
  {
   "cell_type": "markdown",
   "id": "b04ab6b6-070a-4aa8-aa50-180296ead14c",
   "metadata": {},
   "source": [
    "li.COUNT() , LEN(li)  ,  li.REVERSE() ,  li.SORT() ,INDEX('item')- jo bhi item function me mention l\n",
    "kroge to index btayega item repeated h to ist ki index btayega."
   ]
  },
  {
   "cell_type": "markdown",
   "id": "b122abc7-0253-4d41-b154-eff9f0ca201e",
   "metadata": {},
   "source": [
    "y=x.copy() - orignal me changes copy me show nhi hoge      ,   y=x changes show hoge"
   ]
  },
  {
   "cell_type": "markdown",
   "id": "205e41e0-b71b-417d-8de5-79c7608dbaf0",
   "metadata": {},
   "source": [
    "<h1>TUPLE   </h1>"
   ]
  },
  {
   "cell_type": "markdown",
   "id": "7b6ed569-a346-4acf-b7e2-fb13115e2180",
   "metadata": {},
   "source": [
    "collection of items simillar or different. (2,5,7)\n",
    "<h3>how create single line tuple</h3>\n"
   ]
  },
  {
   "cell_type": "markdown",
   "id": "39c4b31f-a5e9-46b8-bd72-f08cd7c65617",
   "metadata": {
    "scrolled": true
   },
   "source": [
    "x=(5,) \n",
    "<h3>how create single tuple</h3>"
   ]
  },
  {
   "cell_type": "markdown",
   "id": "0d740933-e34b-4168-b9dd-b2d10ae6ed19",
   "metadata": {},
   "source": [
    "x=2,5\n",
    "x=(2,5)\n",
    "<h4>immutable, rest all properties are same as list , fast in comparative to list,value store at index</h4>"
   ]
  },
  {
   "cell_type": "markdown",
   "id": "ece259b6-5d7c-47ef-a59e-c6fcdfa5c15c",
   "metadata": {},
   "source": [
    "<h4>koi method support nhi karta list ka only except (count , index ,len,min,max,sum,[::-1])   </h4>"
   ]
  },
  {
   "cell_type": "markdown",
   "id": "67e3b304-8201-4b9a-a322-64a4e7c3a65f",
   "metadata": {},
   "source": [
    "<h1>SET</h1>"
   ]
  },
  {
   "cell_type": "markdown",
   "id": "c58577f1-c183-4929-9952-0ea5324c7963",
   "metadata": {},
   "source": [
    "<h4>how to create empty set </h4>"
   ]
  },
  {
   "cell_type": "markdown",
   "id": "35481e2e-78b1-4fe8-8fe4-8519b25702b9",
   "metadata": {},
   "source": [
    "x=set()    unorderd , no indexing, not supprt duplicate , mutable,  s.issubset(s2),  s.superset(s2)"
   ]
  },
  {
   "cell_type": "code",
   "execution_count": 2,
   "id": "c97ae786-2309-4017-8a4f-b8e507fc94f1",
   "metadata": {},
   "outputs": [
    {
     "data": {
      "text/plain": [
       "{2, 'r', 't'}"
      ]
     },
     "execution_count": 2,
     "metadata": {},
     "output_type": "execute_result"
    }
   ],
   "source": [
    "a = { 2 , 4, 'r' , 't' , 'd'}\n",
    "b = { 3, 5, 4, 'd' , 's','a'}\n",
    "a-b"
   ]
  },
  {
   "cell_type": "code",
   "execution_count": 3,
   "id": "ecd4351d-c0d0-43a7-b66d-d40de7ccb82f",
   "metadata": {},
   "outputs": [
    {
     "data": {
      "text/plain": [
       "{3, 5, 'a', 's'}"
      ]
     },
     "execution_count": 3,
     "metadata": {},
     "output_type": "execute_result"
    }
   ],
   "source": [
    "b-a"
   ]
  },
  {
   "cell_type": "code",
   "execution_count": 4,
   "id": "323cd705-122b-4eeb-84b4-8672016c3b33",
   "metadata": {},
   "outputs": [
    {
     "data": {
      "text/plain": [
       "{2, 3, 5, 'a', 'r', 's', 't'}"
      ]
     },
     "execution_count": 4,
     "metadata": {},
     "output_type": "execute_result"
    }
   ],
   "source": [
    "a^b # remove common"
   ]
  },
  {
   "cell_type": "code",
   "execution_count": 5,
   "id": "ed4a53c5-6c3f-46ff-8852-49e67d4cbdd3",
   "metadata": {},
   "outputs": [
    {
     "data": {
      "text/plain": [
       "{4, 'd'}"
      ]
     },
     "execution_count": 5,
     "metadata": {},
     "output_type": "execute_result"
    }
   ],
   "source": [
    "a&b #common "
   ]
  },
  {
   "cell_type": "code",
   "execution_count": 6,
   "id": "c9f58853-c71e-433e-94b9-616491d7b044",
   "metadata": {},
   "outputs": [
    {
     "data": {
      "text/plain": [
       "{2, 3, 4, 5, 'a', 'd', 'r', 's', 't'}"
      ]
     },
     "execution_count": 6,
     "metadata": {},
     "output_type": "execute_result"
    }
   ],
   "source": [
    "a|b #unnion"
   ]
  },
  {
   "cell_type": "code",
   "execution_count": 7,
   "id": "85875212-9e82-4db8-8e95-e8da770bb24a",
   "metadata": {},
   "outputs": [],
   "source": [
    "a.add('s') #add karta h items but in unorderd way matlb khi bhi"
   ]
  },
  {
   "cell_type": "code",
   "execution_count": 8,
   "id": "4be170c9-ed66-48e8-877b-47cbfef57bb5",
   "metadata": {},
   "outputs": [
    {
     "data": {
      "text/plain": [
       "{2, 4, 'd', 'r', 's', 't'}"
      ]
     },
     "execution_count": 8,
     "metadata": {},
     "output_type": "execute_result"
    }
   ],
   "source": [
    "a"
   ]
  },
  {
   "cell_type": "code",
   "execution_count": 9,
   "id": "de166e29-62e0-4bdd-ad86-d565dab6a6dc",
   "metadata": {},
   "outputs": [
    {
     "data": {
      "text/plain": [
       "{2, 4, 'd', 's', 't'}"
      ]
     },
     "execution_count": 9,
     "metadata": {},
     "output_type": "execute_result"
    }
   ],
   "source": [
    "a.discard('r')# delete krta h but if mentiond element nhi h to error nhi dega \n",
    "a"
   ]
  },
  {
   "cell_type": "code",
   "execution_count": 10,
   "id": "f99742f0-c8fb-4ad9-a807-a8fec5b059f7",
   "metadata": {},
   "outputs": [
    {
     "data": {
      "text/plain": [
       "{4, 'd', 's', 't'}"
      ]
     },
     "execution_count": 10,
     "metadata": {},
     "output_type": "execute_result"
    }
   ],
   "source": [
    "a.remove(2)# delete krta h but if mentiond element nhi h to error dega \n",
    "a\n"
   ]
  },
  {
   "cell_type": "code",
   "execution_count": 13,
   "id": "2a5c7b18-4144-4433-8efa-e57dc9524a6f",
   "metadata": {},
   "outputs": [
    {
     "data": {
      "text/plain": [
       "{1, 4, 6, 'd', 's', 't'}"
      ]
     },
     "execution_count": 13,
     "metadata": {},
     "output_type": "execute_result"
    }
   ],
   "source": [
    "a.update({1, 6, 4,'d'})# not support duplicate\n",
    "a"
   ]
  },
  {
   "cell_type": "code",
   "execution_count": 25,
   "id": "bfc7f3d4-432d-4ace-8457-ac3348386976",
   "metadata": {},
   "outputs": [],
   "source": [
    "x=a # view main me change hoga to dusre me show hoga\n",
    "t = a.copy() #chnages hoge to show nhi hoge"
   ]
  },
  {
   "cell_type": "code",
   "execution_count": 26,
   "id": "536bae0a-9d6e-4c28-9c45-e419c0176455",
   "metadata": {},
   "outputs": [],
   "source": [
    "a.remove(6)"
   ]
  },
  {
   "cell_type": "code",
   "execution_count": 27,
   "id": "3122775c-8480-42f5-8820-1aeeced4a8fc",
   "metadata": {},
   "outputs": [
    {
     "data": {
      "text/plain": [
       "{1, 'd', 's', 't'}"
      ]
     },
     "execution_count": 27,
     "metadata": {},
     "output_type": "execute_result"
    }
   ],
   "source": [
    "x"
   ]
  },
  {
   "cell_type": "code",
   "execution_count": 28,
   "id": "acd4a544-813a-42d3-9455-2bfcf87cf63f",
   "metadata": {},
   "outputs": [
    {
     "name": "stdout",
     "output_type": "stream",
     "text": [
      "{1, 't', 'd', 's'} {1, 6, 't', 'd', 's'}\n"
     ]
    }
   ],
   "source": [
    "print(x,t)"
   ]
  },
  {
   "cell_type": "markdown",
   "id": "00da4a86-3137-4674-957b-50af7d7a497d",
   "metadata": {},
   "source": [
    "<h1>DICTIONARY</h1>"
   ]
  },
  {
   "cell_type": "markdown",
   "id": "71d18831-2401-42a3-9fc6-a62d947a6367",
   "metadata": {},
   "source": [
    "Collection of keys and values , use in designing data bases , mutable"
   ]
  },
  {
   "cell_type": "markdown",
   "id": "ffa8bf1e-16fb-4d41-b928-1d9faa8be0a7",
   "metadata": {},
   "source": [
    "syntax ==> di={'a' : 1, 'b' : 2, 'c' :3}"
   ]
  },
  {
   "cell_type": "markdown",
   "id": "19682649-ee26-49db-88d4-18ace147b05c",
   "metadata": {},
   "source": [
    "we can put list and dictionaries in place of values."
   ]
  },
  {
   "cell_type": "code",
   "execution_count": 44,
   "id": "0cbf3208-635e-49f2-af17-91d45f76390f",
   "metadata": {},
   "outputs": [],
   "source": [
    "di={ 101 : ['ram', 'sharma',28 , 'delhi'] , 102 : ['sham', 'verma', 27 , 'noida']}\n",
    "# dictionary me list"
   ]
  },
  {
   "cell_type": "code",
   "execution_count": 45,
   "id": "f3ed0733-26fb-4ed6-8e4b-315d31fb925f",
   "metadata": {},
   "outputs": [
    {
     "data": {
      "text/plain": [
       "{101: ['ram', 'sharma', 28, 'delhi'], 102: ['sham', 'verma', 27, 'noida']}"
      ]
     },
     "execution_count": 45,
     "metadata": {},
     "output_type": "execute_result"
    }
   ],
   "source": [
    "di"
   ]
  },
  {
   "cell_type": "code",
   "execution_count": 46,
   "id": "686595fe-c18d-4b81-9b6b-ee2fa34abb27",
   "metadata": {},
   "outputs": [
    {
     "data": {
      "text/plain": [
       "['ram', 'sharma', 28, 'delhi']"
      ]
     },
     "execution_count": 46,
     "metadata": {},
     "output_type": "execute_result"
    }
   ],
   "source": [
    "di [101]"
   ]
  },
  {
   "cell_type": "code",
   "execution_count": 47,
   "id": "2f77235c-e3ad-433f-b063-0440c0966bf7",
   "metadata": {},
   "outputs": [
    {
     "data": {
      "text/plain": [
       "28"
      ]
     },
     "execution_count": 47,
     "metadata": {},
     "output_type": "execute_result"
    }
   ],
   "source": [
    "di={ 101 : {'name':'ram', \"sname\":'sharma','age':28 ,'city': 'delhi'} , 102 : {'name':'sham',\"sname\": 'verma', 'age':27 ,'city': 'noida'}}\n",
    "di[101]['age'] # dic me dic"
   ]
  },
  {
   "cell_type": "code",
   "execution_count": 50,
   "id": "8d7f444c-2e02-448a-9b5c-342a18a324eb",
   "metadata": {},
   "outputs": [
    {
     "data": {
      "text/plain": [
       "{101: {'name': 'ram', 'sname': 'sharma', 'age': 28, 'city': 'delhi'},\n",
       " 102: {'name': 'sham', 'sname': 'verma', 'age': 30, 'city': 'noida'}}"
      ]
     },
     "execution_count": 50,
     "metadata": {},
     "output_type": "execute_result"
    }
   ],
   "source": [
    "di[102]['age']=30 # update age\n",
    "di"
   ]
  },
  {
   "cell_type": "code",
   "execution_count": 53,
   "id": "7b96f2b4-fd26-4f2b-adbc-accbb3a5bc0a",
   "metadata": {},
   "outputs": [
    {
     "data": {
      "text/plain": [
       "dict_keys([101, 102])"
      ]
     },
     "execution_count": 53,
     "metadata": {},
     "output_type": "execute_result"
    }
   ],
   "source": [
    "di.keys()"
   ]
  },
  {
   "cell_type": "code",
   "execution_count": 54,
   "id": "8a1b2cec-1b54-4fa4-8b4f-14aeebc59df2",
   "metadata": {},
   "outputs": [
    {
     "data": {
      "text/plain": [
       "dict_keys(['name', 'sname', 'age', 'city'])"
      ]
     },
     "execution_count": 54,
     "metadata": {},
     "output_type": "execute_result"
    }
   ],
   "source": [
    "di[101].keys()"
   ]
  },
  {
   "cell_type": "markdown",
   "id": "e6fbbe9d-5e32-49a8-8d3d-5b1efeae2098",
   "metadata": {},
   "source": [
    "key- Immutable data( INT, FLOAT, TUPLE , STRING) , UNIQUE VALUE"
   ]
  },
  {
   "cell_type": "markdown",
   "id": "93d52f04-d2ba-4ffd-98dd-10b738764ad9",
   "metadata": {},
   "source": [
    "value- mutable ,  can be  duplicate "
   ]
  },
  {
   "cell_type": "markdown",
   "id": "95231f9d-f007-40ff-a5a3-770f07eb5d38",
   "metadata": {},
   "source": [
    "<h2>methods </h2>"
   ]
  },
  {
   "cell_type": "code",
   "execution_count": 56,
   "id": "161ee0c6-3e6a-4dbf-8da6-0ac33ed731ee",
   "metadata": {},
   "outputs": [
    {
     "data": {
      "text/plain": [
       "dict_values([{'name': 'ram', 'sname': 'sharma', 'age': 28, 'city': 'delhi'}, {'name': 'sham', 'sname': 'verma', 'age': 30, 'city': 'noida'}])"
      ]
     },
     "execution_count": 56,
     "metadata": {},
     "output_type": "execute_result"
    }
   ],
   "source": [
    "di.values()"
   ]
  },
  {
   "cell_type": "code",
   "execution_count": 57,
   "id": "50d7c88d-4078-4689-9da4-0cf3e97e1e2a",
   "metadata": {},
   "outputs": [
    {
     "data": {
      "text/plain": [
       "dict_keys([101, 102])"
      ]
     },
     "execution_count": 57,
     "metadata": {},
     "output_type": "execute_result"
    }
   ],
   "source": [
    "di.keys()"
   ]
  },
  {
   "cell_type": "code",
   "execution_count": 58,
   "id": "9328f8a9-35c7-4e2b-8aa4-7074a8532e8d",
   "metadata": {},
   "outputs": [
    {
     "data": {
      "text/plain": [
       "dict_items([(101, {'name': 'ram', 'sname': 'sharma', 'age': 28, 'city': 'delhi'}), (102, {'name': 'sham', 'sname': 'verma', 'age': 30, 'city': 'noida'})])"
      ]
     },
     "execution_count": 58,
     "metadata": {},
     "output_type": "execute_result"
    }
   ],
   "source": [
    "di.items()"
   ]
  },
  {
   "cell_type": "code",
   "execution_count": 60,
   "id": "a24ab5fc-9fd6-4f75-be4e-7060ab968faf",
   "metadata": {},
   "outputs": [
    {
     "data": {
      "text/plain": [
       "{101: {'name': 'ram', 'sname': 'sharma', 'age': 28, 'city': 'delhi'},\n",
       " 102: {'name': 'sham', 'sname': 'verma', 'age': 30, 'city': 'noida'}}"
      ]
     },
     "execution_count": 60,
     "metadata": {},
     "output_type": "execute_result"
    }
   ],
   "source": [
    "x=di.copy()\n",
    "x"
   ]
  },
  {
   "cell_type": "code",
   "execution_count": 66,
   "id": "3bbffda3-1189-4a78-9fc8-4e01a2ca6163",
   "metadata": {},
   "outputs": [
    {
     "data": {
      "text/plain": [
       "{'name': 'sham', 'sname': 'verma', 'age': 30, 'city': 'noida'}"
      ]
     },
     "execution_count": 66,
     "metadata": {},
     "output_type": "execute_result"
    }
   ],
   "source": [
    "di[102]"
   ]
  },
  {
   "cell_type": "code",
   "execution_count": 63,
   "id": "ae3b4349-3a40-4fa3-90dd-a44f2f486092",
   "metadata": {},
   "outputs": [],
   "source": [
    "di.get(103)# not give error if mentioned key is not present"
   ]
  },
  {
   "cell_type": "code",
   "execution_count": 65,
   "id": "1300babd-5f87-4075-8124-469c68062dac",
   "metadata": {},
   "outputs": [
    {
     "data": {
      "text/plain": [
       "{'name': 'ram', 'sname': 'sharma', 'age': 28, 'city': 'delhi'}"
      ]
     },
     "execution_count": 65,
     "metadata": {},
     "output_type": "execute_result"
    }
   ],
   "source": [
    "di.get(101)"
   ]
  },
  {
   "cell_type": "code",
   "execution_count": 68,
   "id": "e2722478-200a-4814-9075-4f9364f6dd12",
   "metadata": {},
   "outputs": [],
   "source": [
    "di.update({103:'seema',104:'rohan'})"
   ]
  },
  {
   "cell_type": "code",
   "execution_count": 69,
   "id": "6adea97b-0a03-4f86-a9a3-0b314ac7a330",
   "metadata": {},
   "outputs": [
    {
     "data": {
      "text/plain": [
       "{101: {'name': 'ram', 'sname': 'sharma', 'age': 28, 'city': 'delhi'},\n",
       " 102: {'name': 'sham', 'sname': 'verma', 'age': 30, 'city': 'noida'},\n",
       " 103: 'seema',\n",
       " 104: 'rohan'}"
      ]
     },
     "execution_count": 69,
     "metadata": {},
     "output_type": "execute_result"
    }
   ],
   "source": [
    "di"
   ]
  },
  {
   "cell_type": "code",
   "execution_count": 70,
   "id": "353c96f5-a1d6-4177-9a57-03a26428fc1c",
   "metadata": {},
   "outputs": [
    {
     "data": {
      "text/plain": [
       "'seema'"
      ]
     },
     "execution_count": 70,
     "metadata": {},
     "output_type": "execute_result"
    }
   ],
   "source": [
    "di.pop(103)"
   ]
  },
  {
   "cell_type": "code",
   "execution_count": 71,
   "id": "555a3752-2469-433b-ac2a-3cff2cf8fd5b",
   "metadata": {},
   "outputs": [
    {
     "data": {
      "text/plain": [
       "{101: {'name': 'ram', 'sname': 'sharma', 'age': 28, 'city': 'delhi'},\n",
       " 102: {'name': 'sham', 'sname': 'verma', 'age': 30, 'city': 'noida'},\n",
       " 104: 'rohan'}"
      ]
     },
     "execution_count": 71,
     "metadata": {},
     "output_type": "execute_result"
    }
   ],
   "source": [
    "di"
   ]
  },
  {
   "cell_type": "markdown",
   "id": "38c04326-b7fe-4793-b477-9ed6b9943287",
   "metadata": {},
   "source": [
    "<h1>Zip function</h1>"
   ]
  },
  {
   "cell_type": "code",
   "execution_count": 82,
   "id": "7a63119f-f9ae-42bf-af55-54082664c1c0",
   "metadata": {},
   "outputs": [],
   "source": [
    "n=[20,40,50]"
   ]
  },
  {
   "cell_type": "code",
   "execution_count": 96,
   "id": "21b07aeb-f6e5-4503-8c68-bf5d19999a70",
   "metadata": {},
   "outputs": [
    {
     "data": {
      "text/plain": [
       "[60, 70, 80, 20, 40, 50]"
      ]
     },
     "execution_count": 96,
     "metadata": {},
     "output_type": "execute_result"
    }
   ],
   "source": [
    "m=[60,70,80]"
   ]
  },
  {
   "cell_type": "code",
   "execution_count": 87,
   "id": "5c1b5014-0649-47db-a4c5-fb5d9eb7a38a",
   "metadata": {},
   "outputs": [],
   "source": [
    "k = zip(n,m)"
   ]
  },
  {
   "cell_type": "code",
   "execution_count": 88,
   "id": "dbe80426-43bf-4034-b162-06e10db46dc9",
   "metadata": {},
   "outputs": [
    {
     "name": "stdout",
     "output_type": "stream",
     "text": [
      "<zip object at 0x000001BCB484F440>\n"
     ]
    }
   ],
   "source": [
    "list(k)\n",
    "print(k)"
   ]
  },
  {
   "cell_type": "code",
   "execution_count": 93,
   "id": "a2876be1-8ce0-4041-9a46-a01ae7471ec6",
   "metadata": {},
   "outputs": [
    {
     "name": "stdout",
     "output_type": "stream",
     "text": [
      "aaaaaaaaaaaaaaaaaaaa\n",
      "dddddddddddddddddddddddddddddddddddddddd\n",
      "xxxxxxxxxxxxxxxxxxxxxxxxxxxxxxxxxxxxxxxxxxxxxxxxxxxxxxxxxxxxxxxxxxxxxxxxxxxxxxxx\n"
     ]
    }
   ],
   "source": [
    "li=[('a',20),('d',40),('x',80)]\n",
    "for i,j in li:\n",
    "    print(i*j)"
   ]
  },
  {
   "cell_type": "code",
   "execution_count": 98,
   "id": "212f90ca-0325-4bf0-a7be-7719dfec9a82",
   "metadata": {},
   "outputs": [
    {
     "name": "stdout",
     "output_type": "stream",
     "text": [
      "20\n",
      "40\n",
      "50\n",
      "60\n",
      "70\n",
      "80\n"
     ]
    }
   ],
   "source": [
    "n+m\n",
    "for i in n+m:\n",
    "    print(i)"
   ]
  },
  {
   "cell_type": "markdown",
   "id": "4e27431e-076e-4517-b7d3-8df969bf25d7",
   "metadata": {},
   "source": [
    "1. Write a Python program to find the maximum and minimum values in a given \n",
    "list."
   ]
  },
  {
   "cell_type": "code",
   "execution_count": 103,
   "id": "49410322-b121-438d-ad05-e8ca9c0d6336",
   "metadata": {},
   "outputs": [
    {
     "data": {
      "text/plain": [
       "60"
      ]
     },
     "execution_count": 103,
     "metadata": {},
     "output_type": "execute_result"
    }
   ],
   "source": [
    "max(m)\n",
    "min(m)"
   ]
  },
  {
   "cell_type": "markdown",
   "id": "e26866aa-3ca5-4033-9c91-70ea1f74ef6d",
   "metadata": {},
   "source": [
    "2. Given a list of integers, find the second-largest element without sor ng the list."
   ]
  },
  {
   "cell_type": "code",
   "execution_count": 108,
   "id": "8ceba27b-2ff7-4629-8b2a-ee791a0b671c",
   "metadata": {},
   "outputs": [
    {
     "data": {
      "text/plain": [
       "80"
      ]
     },
     "execution_count": 108,
     "metadata": {},
     "output_type": "execute_result"
    }
   ],
   "source": [
    "q=[40,80,100,50,60]\n",
    "q.sort()\n",
    "q[-2]"
   ]
  },
  {
   "cell_type": "markdown",
   "id": "42129fb6-1be6-41d9-ab9a-9e6bbf6ec807",
   "metadata": {},
   "source": [
    "3. Write a program to remove duplicate elements from a list while preserving the \n",
    "original order."
   ]
  },
  {
   "cell_type": "code",
   "execution_count": 5,
   "id": "ff02cf9e-b579-4d6d-87b7-e76fa69f6454",
   "metadata": {},
   "outputs": [
    {
     "name": "stdout",
     "output_type": "stream",
     "text": [
      "[80, 100, 90, 40, 50, 60]\n"
     ]
    }
   ],
   "source": [
    "q=[40,50,60,80,100,50,60,100,90,40,40,50,60]\n",
    "q2=q.copy()\n",
    "for i in q:\n",
    "    if q2.count(i)>1 :\n",
    "        q2.remove(i)\n",
    "print(q2)"
   ]
  },
  {
   "cell_type": "markdown",
   "id": "b6e26a4c-a7af-4ab6-96db-c0c41499848d",
   "metadata": {},
   "source": [
    "4. Given two lists, find the common elements between them and store them in a \n",
    "new list."
   ]
  },
  {
   "cell_type": "code",
   "execution_count": null,
   "id": "872f9ee6-66bb-410c-82b4-42c8dfbe53de",
   "metadata": {},
   "outputs": [],
   "source": [
    "q=[40,70,80,100,50,60]\n",
    "t=[40,60,20,50,99,88,44,33,22]\n",
    "s=[]\n",
    "for i in q:\n",
    "    if i in t:\n",
    "        s.append(i)\n",
    "print(s) "
   ]
  },
  {
   "cell_type": "code",
   "execution_count": 34,
   "id": "4a564ea4-4321-4236-a5ae-98ac4e7827b2",
   "metadata": {},
   "outputs": [
    {
     "data": {
      "text/plain": [
       "[40, 50, 60]"
      ]
     },
     "execution_count": 34,
     "metadata": {},
     "output_type": "execute_result"
    }
   ],
   "source": [
    "q=[40,70,80,100,50,60]\n",
    "t=[40,60,20,50,99,88,44,33,22]\n",
    "q=set(q)\n",
    "t=set(t)\n",
    "list(q&t)"
   ]
  },
  {
   "cell_type": "markdown",
   "id": "967dd689-17ca-45a5-bce6-b7a846a788e0",
   "metadata": {},
   "source": [
    "5. Write a Python func on to check if a list is sorted in ascending order. "
   ]
  },
  {
   "cell_type": "code",
   "execution_count": 44,
   "id": "969fffd3-f1cb-4d34-8dd4-d822468919e0",
   "metadata": {},
   "outputs": [
    {
     "name": "stdout",
     "output_type": "stream",
     "text": [
      "sorted in ascending order\n"
     ]
    }
   ],
   "source": [
    "t=[20,30,40,60,88,90]\n",
    "if sorted(t)==t: # t.sort value return nhi karta , sorted(t) karta h\n",
    "    print('sorted in ascending order')\n",
    "else:    \n",
    "    print('not')"
   ]
  },
  {
   "cell_type": "markdown",
   "id": "d5d2bfb6-baf7-40ba-ab43-dea73899f964",
   "metadata": {},
   "source": [
    "6. Given a list of strings, write a program to find the longest string in the list."
   ]
  },
  {
   "cell_type": "code",
   "execution_count": 46,
   "id": "de1e6bbc-2577-4f8c-9725-58f95d593541",
   "metadata": {},
   "outputs": [
    {
     "data": {
      "text/plain": [
       "'grapesss'"
      ]
     },
     "execution_count": 46,
     "metadata": {},
     "output_type": "execute_result"
    }
   ],
   "source": [
    "x=['appple' , 'grapesss' , 'tea' , 'board' , 'ball', 'zebra']\n",
    "max(x) #it gives on the bases of dictionary\n",
    "max(x, key=len)# it gives on the bases of length "
   ]
  },
  {
   "cell_type": "markdown",
   "id": "f25f64b6-0824-4977-a582-d8b97eeaece4",
   "metadata": {},
   "source": [
    "7. Given a list of numbers, write a program to find the sum of all even numbers in \n",
    "the list. "
   ]
  },
  {
   "cell_type": "code",
   "execution_count": 47,
   "id": "2e5f4786-a1c7-4295-b707-dea868385aa5",
   "metadata": {},
   "outputs": [
    {
     "name": "stdout",
     "output_type": "stream",
     "text": [
      "256\n"
     ]
    }
   ],
   "source": [
    "x=[33 ,56,31,78,65,73,28,94]\n",
    "sum=0\n",
    "for i in x:\n",
    "    if i%2==0:\n",
    "       sum=sum+i\n",
    "print(sum)"
   ]
  },
  {
   "cell_type": "markdown",
   "id": "6fee4b7d-c576-4192-ba0f-21032e5043be",
   "metadata": {},
   "source": [
    "8.  Given a list of numbers, write a Python func on to find the product of all \n",
    "elements in the list."
   ]
  },
  {
   "cell_type": "code",
   "execution_count": 50,
   "id": "54a5a54a-0358-41c0-af5a-1156968482f5",
   "metadata": {},
   "outputs": [
    {
     "name": "stdout",
     "output_type": "stream",
     "text": [
      "2619540\n"
     ]
    }
   ],
   "source": [
    "x=[33 ,5,3,7,6,7,2,9]\n",
    "prod=1\n",
    "for i in x:\n",
    "    prod=prod*i\n",
    "print(prod)    "
   ]
  },
  {
   "cell_type": "markdown",
   "id": "1c3cf70b-aea3-45e6-9bea-7b5c99f526b4",
   "metadata": {},
   "source": [
    "# Car Rental System "
   ]
  },
  {
   "cell_type": "code",
   "execution_count": 1,
   "id": "0a3fc601-4857-4359-85f5-6fb0ba1a0a3e",
   "metadata": {},
   "outputs": [
    {
     "name": "stdout",
     "output_type": "stream",
     "text": [
      " WELCOME TO SHREE RAM CAR RENTAL Ltd \n",
      "1 . Check avaibility of car with price\n",
      "2 . Car booking.               \n",
      "3 . Submit car.\n",
      "to exit press any button\n"
     ]
    },
    {
     "name": "stdin",
     "output_type": "stream",
     "text": [
      "enter the requiremant as per above information 1\n"
     ]
    }
   ],
   "source": [
    "car_available={'101':{'name':'Alto', 'status': 'not booked', 'rent per day': 1000},'102':{'name':'Wagenar', 'status': 'not booked', 'rent per day': 1000},\n",
    "              '103':{'name':'Innova', 'status': 'not booked', 'rent per day': 2000},'104':{'name':'Fortuner', 'status': 'not booked', 'rent per day': 4000},\n",
    "               '105':{'name':'Harrier', 'status': 'not booked', 'rent per day': 4000},'106':{'name':'Bmw', 'status': 'not booked', 'rent per day': 5000}, \n",
    "               '107':{'name':'Desire', 'status': 'not booked', 'rent per day': 2000}, '108':{'name':'Baleno', 'status': 'not booked', 'rent per day': 1500}, \n",
    "               '109':{'name':'i10', 'status': 'not booked', 'rent per day': 1000},'110':{'name':'Thar', 'status': 'not booked', 'rent per day': 2500}}\n",
    "\n",
    "print(\" WELCOME TO SHREE RAM CAR RENTAL Ltd \")\n",
    "print('''1 . Check avaibility of car with price\n",
    "2 . Car booking.               \n",
    "3 . Submit car.\n",
    "to exit press any button''')\n",
    "z=input(\"enter the requiremant as per above information\")\n",
    "    \n",
    "if(z==1):\n",
    "    for i in car_available: \n",
    "        if (car_available[i]['status']=='not booked'):\n",
    "            print(car_available[i]['name'], car_available[i]['rent per day'])\n",
    "elif(z==2):\n",
    "    print('Available cars')\n",
    "    for i in car_available : \n",
    "        if (car_available[i] ['status']== 'not booked'):          \n",
    "            print(i,car_available[i]['name'],car_available[i]['rent per day'])\n",
    "            a=input(\"Enter the car id \")\n",
    "            b=int(input(\"Enter days for car booking\"))\n",
    "            c=car_available[a]['rent per day']*b\n",
    "            print('You have to pay=',c)\n",
    "            car_available[a]['status'] = 'booked'\n",
    "elif(z==3) :\n",
    "    d=input('enter the car id you want to return')\n",
    "    car_available[d] ['status']= 'not booked'\n",
    "\n",
    "else:\n",
    "    exit()"
   ]
  },
  {
   "cell_type": "code",
   "execution_count": null,
   "id": "e864a4a2-652a-42c7-99f5-0ae5a519c1d8",
   "metadata": {},
   "outputs": [],
   "source": []
  }
 ],
 "metadata": {
  "kernelspec": {
   "display_name": "Python 3 (ipykernel)",
   "language": "python",
   "name": "python3"
  },
  "language_info": {
   "codemirror_mode": {
    "name": "ipython",
    "version": 3
   },
   "file_extension": ".py",
   "mimetype": "text/x-python",
   "name": "python",
   "nbconvert_exporter": "python",
   "pygments_lexer": "ipython3",
   "version": "3.11.7"
  }
 },
 "nbformat": 4,
 "nbformat_minor": 5
}
